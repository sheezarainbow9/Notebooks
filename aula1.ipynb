{
  "nbformat": 4,
  "nbformat_minor": 0,
  "metadata": {
    "colab": {
      "provenance": [],
      "collapsed_sections": [],
      "authorship_tag": "ABX9TyPeKWFxfyHdlpbbu7rK96rX",
      "include_colab_link": true
    },
    "kernelspec": {
      "name": "python3",
      "display_name": "Python 3"
    },
    "language_info": {
      "name": "python"
    }
  },
  "cells": [
    {
      "cell_type": "markdown",
      "metadata": {
        "id": "view-in-github",
        "colab_type": "text"
      },
      "source": [
        "<a href=\"https://colab.research.google.com/github/sheezarainbow9/Notebooks/blob/main/aula1.ipynb\" target=\"_parent\"><img src=\"https://colab.research.google.com/assets/colab-badge.svg\" alt=\"Open In Colab\"/></a>"
      ]
    },
    {
      "cell_type": "markdown",
      "source": [
        "Sheeza Adrian da Silva.\n",
        "Aula 1 - NumPy."
      ],
      "metadata": {
        "id": "9CkLywSNHBya"
      }
    },
    {
      "cell_type": "markdown",
      "source": [
        "Importando o NumPy:"
      ],
      "metadata": {
        "id": "LGSGlec8HLF1"
      }
    },
    {
      "cell_type": "code",
      "execution_count": 89,
      "metadata": {
        "id": "YWCoEGJuAba6"
      },
      "outputs": [],
      "source": [
        "import numpy as np"
      ]
    },
    {
      "cell_type": "markdown",
      "source": [
        "Criando uma lista:"
      ],
      "metadata": {
        "id": "NKt6iR_uA7UT"
      }
    },
    {
      "cell_type": "code",
      "source": [
        "minhaLista = [0, 1, 2, 3, 4, 5, 6, 7, 8]\n",
        "minhaLista"
      ],
      "metadata": {
        "colab": {
          "base_uri": "https://localhost:8080/"
        },
        "id": "6_4--L6SA-pj",
        "outputId": "e7bf4f4d-6589-449c-a0cc-1e1d595392e2"
      },
      "execution_count": 90,
      "outputs": [
        {
          "output_type": "execute_result",
          "data": {
            "text/plain": [
              "[0, 1, 2, 3, 4, 5, 6, 7, 8]"
            ]
          },
          "metadata": {},
          "execution_count": 90
        }
      ]
    },
    {
      "cell_type": "markdown",
      "source": [
        "Transformando essa lista em um Array Numpy:"
      ],
      "metadata": {
        "id": "4mrzDT4_BFBR"
      }
    },
    {
      "cell_type": "code",
      "source": [
        "meuArray = np.array(minhaLista)\n",
        "meuArray"
      ],
      "metadata": {
        "colab": {
          "base_uri": "https://localhost:8080/"
        },
        "id": "jvc2ibmoBJgv",
        "outputId": "18b1ef61-e027-4309-c0a0-6034b578633c"
      },
      "execution_count": 91,
      "outputs": [
        {
          "output_type": "execute_result",
          "data": {
            "text/plain": [
              "array([0, 1, 2, 3, 4, 5, 6, 7, 8])"
            ]
          },
          "metadata": {},
          "execution_count": 91
        }
      ]
    },
    {
      "cell_type": "markdown",
      "source": [
        "Uma forma mais simples de criarmos essa lista:"
      ],
      "metadata": {
        "id": "YifYwoZLBkXc"
      }
    },
    {
      "cell_type": "code",
      "source": [
        "minhaLista = list(range(9))\n",
        "minhaLista"
      ],
      "metadata": {
        "colab": {
          "base_uri": "https://localhost:8080/"
        },
        "id": "uex4X5lUCASK",
        "outputId": "7c86ab36-8206-4531-92c3-81db1078f815"
      },
      "execution_count": 92,
      "outputs": [
        {
          "output_type": "execute_result",
          "data": {
            "text/plain": [
              "[0, 1, 2, 3, 4, 5, 6, 7, 8]"
            ]
          },
          "metadata": {},
          "execution_count": 92
        }
      ]
    },
    {
      "cell_type": "markdown",
      "source": [
        "Transformando agora essa lista em um Array Numpy:"
      ],
      "metadata": {
        "id": "i5cydxZZCEuM"
      }
    },
    {
      "cell_type": "code",
      "source": [
        "array1 = np.array(range(9))\n",
        "array1"
      ],
      "metadata": {
        "colab": {
          "base_uri": "https://localhost:8080/"
        },
        "id": "aPUjbDeTCKph",
        "outputId": "58cb9b3d-2f02-40b2-e534-6c1004e742f7"
      },
      "execution_count": 93,
      "outputs": [
        {
          "output_type": "execute_result",
          "data": {
            "text/plain": [
              "array([0, 1, 2, 3, 4, 5, 6, 7, 8])"
            ]
          },
          "metadata": {},
          "execution_count": 93
        }
      ]
    },
    {
      "cell_type": "markdown",
      "source": [
        "arange: Fazendo as etapas anteriores numa única sintaxe:"
      ],
      "metadata": {
        "id": "dGVb2CWeCPUz"
      }
    },
    {
      "cell_type": "code",
      "source": [
        "array2 = np.arange(9)\n",
        "array2"
      ],
      "metadata": {
        "colab": {
          "base_uri": "https://localhost:8080/"
        },
        "id": "NhzVPp9RCTt6",
        "outputId": "43520b3f-8260-46a7-9747-7d5282ed3fac"
      },
      "execution_count": 94,
      "outputs": [
        {
          "output_type": "execute_result",
          "data": {
            "text/plain": [
              "array([0, 1, 2, 3, 4, 5, 6, 7, 8])"
            ]
          },
          "metadata": {},
          "execution_count": 94
        }
      ]
    },
    {
      "cell_type": "markdown",
      "source": [
        "Start, stop, step:"
      ],
      "metadata": {
        "id": "PWFXhPiYC_JK"
      }
    },
    {
      "cell_type": "code",
      "source": [
        "array3 = np.arange(0, 10, 0.5)\n",
        "array3"
      ],
      "metadata": {
        "colab": {
          "base_uri": "https://localhost:8080/"
        },
        "id": "AGOVXYygDCzS",
        "outputId": "d735e451-d794-488b-c6b5-f0eb82380b15"
      },
      "execution_count": 95,
      "outputs": [
        {
          "output_type": "execute_result",
          "data": {
            "text/plain": [
              "array([0. , 0.5, 1. , 1.5, 2. , 2.5, 3. , 3.5, 4. , 4.5, 5. , 5.5, 6. ,\n",
              "       6.5, 7. , 7.5, 8. , 8.5, 9. , 9.5])"
            ]
          },
          "metadata": {},
          "execution_count": 95
        }
      ]
    },
    {
      "cell_type": "markdown",
      "source": [
        "Arredondando os valores obtidos:"
      ],
      "metadata": {
        "id": "toDuV2YODIXI"
      }
    },
    {
      "cell_type": "code",
      "source": [
        "novoArray = np.around(array3)\n",
        "novoArray"
      ],
      "metadata": {
        "colab": {
          "base_uri": "https://localhost:8080/"
        },
        "id": "_VIPH5jPDLI8",
        "outputId": "b582e131-5ff3-4ead-9724-0af041c874ed"
      },
      "execution_count": 96,
      "outputs": [
        {
          "output_type": "execute_result",
          "data": {
            "text/plain": [
              "array([ 0.,  0.,  1.,  2.,  2.,  2.,  3.,  4.,  4.,  4.,  5.,  6.,  6.,\n",
              "        6.,  7.,  8.,  8.,  8.,  9., 10.])"
            ]
          },
          "metadata": {},
          "execution_count": 96
        }
      ]
    },
    {
      "cell_type": "markdown",
      "source": [
        "Também podemos 'forçar' o tipo dos elementos:"
      ],
      "metadata": {
        "id": "z24utneVDRrd"
      }
    },
    {
      "cell_type": "code",
      "source": [
        "array3 = np.arange(0, 10, 0.5, dtype=int)\n",
        "array3"
      ],
      "metadata": {
        "colab": {
          "base_uri": "https://localhost:8080/"
        },
        "id": "UoFSLvjCDVzE",
        "outputId": "630a666d-6440-4f59-a2fa-9ed71b74a348"
      },
      "execution_count": 97,
      "outputs": [
        {
          "output_type": "execute_result",
          "data": {
            "text/plain": [
              "array([0, 0, 0, 0, 0, 0, 0, 0, 0, 0, 0, 0, 0, 0, 0, 0, 0, 0, 0, 0])"
            ]
          },
          "metadata": {},
          "execution_count": 97
        }
      ]
    },
    {
      "cell_type": "markdown",
      "source": [
        "Também podemos pré determinar o tipo dos elementos:"
      ],
      "metadata": {
        "id": "mynio3-TEDRh"
      }
    },
    {
      "cell_type": "code",
      "source": [
        "array4 = np.arange(12)\n",
        "array4"
      ],
      "metadata": {
        "colab": {
          "base_uri": "https://localhost:8080/"
        },
        "id": "BYQ0ZXUgEH3H",
        "outputId": "40239468-e680-4ae6-ab43-6add3c16740a"
      },
      "execution_count": 98,
      "outputs": [
        {
          "output_type": "execute_result",
          "data": {
            "text/plain": [
              "array([ 0,  1,  2,  3,  4,  5,  6,  7,  8,  9, 10, 11])"
            ]
          },
          "metadata": {},
          "execution_count": 98
        }
      ]
    },
    {
      "cell_type": "markdown",
      "source": [
        "Acima teremos os números inteiros, mas posso deixar meu array previamente preparado  para trabalhar futuramente com tipos float ( . ):"
      ],
      "metadata": {
        "id": "TZo8UrJsErbG"
      }
    },
    {
      "cell_type": "code",
      "source": [
        "array4 = np.arange(12.)\n",
        "array4"
      ],
      "metadata": {
        "colab": {
          "base_uri": "https://localhost:8080/"
        },
        "id": "H7dSAU6uE1Zo",
        "outputId": "231e619b-02df-4b8d-fc19-30898379cc01"
      },
      "execution_count": 99,
      "outputs": [
        {
          "output_type": "execute_result",
          "data": {
            "text/plain": [
              "array([ 0.,  1.,  2.,  3.,  4.,  5.,  6.,  7.,  8.,  9., 10., 11.])"
            ]
          },
          "metadata": {},
          "execution_count": 99
        }
      ]
    },
    {
      "cell_type": "markdown",
      "source": [
        "Verificando o tipo do objeto:"
      ],
      "metadata": {
        "id": "nHB-CkuMFNPn"
      }
    },
    {
      "cell_type": "code",
      "source": [
        "type(array4)"
      ],
      "metadata": {
        "colab": {
          "base_uri": "https://localhost:8080/"
        },
        "id": "7dZ0vjL2FQAc",
        "outputId": "08dc0649-aecd-4653-e855-87d814c304ef"
      },
      "execution_count": 100,
      "outputs": [
        {
          "output_type": "execute_result",
          "data": {
            "text/plain": [
              "numpy.ndarray"
            ]
          },
          "metadata": {},
          "execution_count": 100
        }
      ]
    },
    {
      "cell_type": "markdown",
      "source": [
        "Verificando o tipo dos elementos do array:"
      ],
      "metadata": {
        "id": "MH1dipJRFSuy"
      }
    },
    {
      "cell_type": "code",
      "source": [
        "array4.dtype  # ou print(array4.dtype)"
      ],
      "metadata": {
        "colab": {
          "base_uri": "https://localhost:8080/"
        },
        "id": "hTYaxdA-FVQ6",
        "outputId": "6863aa60-80f2-4521-acb7-49ab7bdb5f88"
      },
      "execution_count": 101,
      "outputs": [
        {
          "output_type": "execute_result",
          "data": {
            "text/plain": [
              "dtype('float64')"
            ]
          },
          "metadata": {},
          "execution_count": 101
        }
      ]
    },
    {
      "cell_type": "markdown",
      "source": [
        "Também podemos criar um array digitando os valores:"
      ],
      "metadata": {
        "id": "GPln-LR4Fh8A"
      }
    },
    {
      "cell_type": "code",
      "source": [
        "vetor1 = np.array([0, 1, 2, 3, 4])\n",
        "print(vetor1)"
      ],
      "metadata": {
        "colab": {
          "base_uri": "https://localhost:8080/"
        },
        "id": "ezPAoW-jGR3m",
        "outputId": "c2360b09-3aea-4b67-a8ee-9ca1b74ccaad"
      },
      "execution_count": 102,
      "outputs": [
        {
          "output_type": "stream",
          "name": "stdout",
          "text": [
            "[0 1 2 3 4]\n"
          ]
        }
      ]
    },
    {
      "cell_type": "markdown",
      "source": [
        "Selecionando um elemento específico:"
      ],
      "metadata": {
        "id": "nIcv5tqLGZK4"
      }
    },
    {
      "cell_type": "code",
      "source": [
        "vetor1[3]"
      ],
      "metadata": {
        "colab": {
          "base_uri": "https://localhost:8080/"
        },
        "id": "3REbULS9Gb1B",
        "outputId": "d935ffdf-2764-4c6b-f158-4cb5ad4b9880"
      },
      "execution_count": 103,
      "outputs": [
        {
          "output_type": "execute_result",
          "data": {
            "text/plain": [
              "3"
            ]
          },
          "metadata": {},
          "execution_count": 103
        }
      ]
    },
    {
      "cell_type": "markdown",
      "source": [
        "Selecionando um intervalo específico:"
      ],
      "metadata": {
        "id": "VBbcj2c6GeaK"
      }
    },
    {
      "cell_type": "code",
      "source": [
        "vetor1[0:2]"
      ],
      "metadata": {
        "colab": {
          "base_uri": "https://localhost:8080/"
        },
        "id": "BkoDvNYqGkXi",
        "outputId": "48e075af-2f8f-4769-f30d-b7fe4f97103c"
      },
      "execution_count": 104,
      "outputs": [
        {
          "output_type": "execute_result",
          "data": {
            "text/plain": [
              "array([0, 1])"
            ]
          },
          "metadata": {},
          "execution_count": 104
        }
      ]
    },
    {
      "cell_type": "markdown",
      "source": [
        "Ou também:"
      ],
      "metadata": {
        "id": "aIY4xBCvGnOZ"
      }
    },
    {
      "cell_type": "code",
      "source": [
        "print(vetor1[0:2])"
      ],
      "metadata": {
        "colab": {
          "base_uri": "https://localhost:8080/"
        },
        "id": "cHCnipNDGpcx",
        "outputId": "83922752-8413-4b29-bde5-8f518fc313b6"
      },
      "execution_count": 105,
      "outputs": [
        {
          "output_type": "stream",
          "name": "stdout",
          "text": [
            "[0 1]\n"
          ]
        }
      ]
    },
    {
      "cell_type": "markdown",
      "source": [
        "Criando um array de strings:"
      ],
      "metadata": {
        "id": "S3h7gYEeHXBW"
      }
    },
    {
      "cell_type": "code",
      "source": [
        "s = np.array(['Python', 'Profissional', 'Java', \"Água\"])\n",
        "s"
      ],
      "metadata": {
        "colab": {
          "base_uri": "https://localhost:8080/"
        },
        "id": "FQxpGSqsHZds",
        "outputId": "d3ac3f32-7f55-426f-adb2-0a5849cdb465"
      },
      "execution_count": 106,
      "outputs": [
        {
          "output_type": "execute_result",
          "data": {
            "text/plain": [
              "array(['Python', 'Profissional', 'Java', 'Água'], dtype='<U12')"
            ]
          },
          "metadata": {},
          "execution_count": 106
        }
      ]
    },
    {
      "cell_type": "code",
      "source": [
        "s = np.array(['Python', 1464321315, 'Profissional', 'Java', \"Água\"])\n",
        "s"
      ],
      "metadata": {
        "colab": {
          "base_uri": "https://localhost:8080/"
        },
        "id": "q2Fb_BifHme1",
        "outputId": "a847ae70-9245-44fc-e1e0-98fb7669d442"
      },
      "execution_count": 107,
      "outputs": [
        {
          "output_type": "execute_result",
          "data": {
            "text/plain": [
              "array(['Python', '1464321315', 'Profissional', 'Java', 'Água'],\n",
              "      dtype='<U21')"
            ]
          },
          "metadata": {},
          "execution_count": 107
        }
      ]
    },
    {
      "cell_type": "markdown",
      "source": [
        "Alterando um elemento do Array:"
      ],
      "metadata": {
        "id": "pAok31PTHkX8"
      }
    },
    {
      "cell_type": "code",
      "source": [
        "vetor1[2] = 10\n",
        "vetor1"
      ],
      "metadata": {
        "colab": {
          "base_uri": "https://localhost:8080/"
        },
        "id": "R4tjdD80H2D7",
        "outputId": "59a1baf8-d66e-44f9-f4b4-9ff155e4b2c5"
      },
      "execution_count": 108,
      "outputs": [
        {
          "output_type": "execute_result",
          "data": {
            "text/plain": [
              "array([ 0,  1, 10,  3,  4])"
            ]
          },
          "metadata": {},
          "execution_count": 108
        }
      ]
    },
    {
      "cell_type": "markdown",
      "source": [
        "Vamos tentar incluir elementos:"
      ],
      "metadata": {
        "id": "m7gCa8esImTe"
      }
    },
    {
      "cell_type": "code",
      "source": [
        "vetor1[0] = 'Novo elemento'\n",
        "vetor1"
      ],
      "metadata": {
        "colab": {
          "base_uri": "https://localhost:8080/",
          "height": 183
        },
        "id": "3nrX3q-uIpZl",
        "outputId": "d9f9e2a0-de94-4bb5-9ee4-12669f7b17cd"
      },
      "execution_count": 109,
      "outputs": [
        {
          "output_type": "error",
          "ename": "ValueError",
          "evalue": "ignored",
          "traceback": [
            "\u001b[0;31m---------------------------------------------------------------------------\u001b[0m",
            "\u001b[0;31mValueError\u001b[0m                                Traceback (most recent call last)",
            "\u001b[0;32m<ipython-input-109-6622e977b37e>\u001b[0m in \u001b[0;36m<module>\u001b[0;34m\u001b[0m\n\u001b[0;32m----> 1\u001b[0;31m \u001b[0mvetor1\u001b[0m\u001b[0;34m[\u001b[0m\u001b[0;36m0\u001b[0m\u001b[0;34m]\u001b[0m \u001b[0;34m=\u001b[0m \u001b[0;34m'Novo elemento'\u001b[0m\u001b[0;34m\u001b[0m\u001b[0;34m\u001b[0m\u001b[0m\n\u001b[0m\u001b[1;32m      2\u001b[0m \u001b[0mvetor1\u001b[0m\u001b[0;34m\u001b[0m\u001b[0;34m\u001b[0m\u001b[0m\n",
            "\u001b[0;31mValueError\u001b[0m: invalid literal for int() with base 10: 'Novo elemento'"
          ]
        }
      ]
    },
    {
      "cell_type": "markdown",
      "source": [
        "Agora tente o seguinte:"
      ],
      "metadata": {
        "id": "dRXBVxk1IuUc"
      }
    },
    {
      "cell_type": "code",
      "source": [
        "vetor1[0] = 45.6\n",
        "vetor1"
      ],
      "metadata": {
        "colab": {
          "base_uri": "https://localhost:8080/"
        },
        "id": "sAy00qGlIv9s",
        "outputId": "f785c45f-a905-4188-8c82-d5b39b4e1765"
      },
      "execution_count": 110,
      "outputs": [
        {
          "output_type": "execute_result",
          "data": {
            "text/plain": [
              "array([45,  1, 10,  3,  4])"
            ]
          },
          "metadata": {},
          "execution_count": 110
        }
      ]
    },
    {
      "cell_type": "markdown",
      "source": [
        "Criando a 1a Matriz:"
      ],
      "metadata": {
        "id": "M5fIIN7JJOU4"
      }
    },
    {
      "cell_type": "code",
      "source": [
        "minhaMatriz = np.array([[1, 2, 3],\n",
        "                        [4, 5, 6]])"
      ],
      "metadata": {
        "id": "s8uuPKwjJ_UZ"
      },
      "execution_count": 111,
      "outputs": []
    },
    {
      "cell_type": "markdown",
      "source": [
        "Lembrando que você pode escrever apenas assim:"
      ],
      "metadata": {
        "id": "CTdTWrAKKI81"
      }
    },
    {
      "cell_type": "code",
      "source": [
        "minhaMatriz = np.array([[1, 2, 3], [4, 5, 6]])\n",
        "minhaMatriz"
      ],
      "metadata": {
        "colab": {
          "base_uri": "https://localhost:8080/"
        },
        "id": "xNMI5QamKNJb",
        "outputId": "c9376847-e00e-47c3-e6dc-4f006cf00897"
      },
      "execution_count": 112,
      "outputs": [
        {
          "output_type": "execute_result",
          "data": {
            "text/plain": [
              "array([[1, 2, 3],\n",
              "       [4, 5, 6]])"
            ]
          },
          "metadata": {},
          "execution_count": 112
        }
      ]
    },
    {
      "cell_type": "markdown",
      "source": [
        "Podemos criar uma matriz a partir de uma lista:"
      ],
      "metadata": {
        "id": "SL5lz7TwK9hc"
      }
    },
    {
      "cell_type": "code",
      "source": [
        "minhaLista = [[13, 81, 22], [0, 34, 59], [21, 48, 94]]"
      ],
      "metadata": {
        "id": "zMFHJyFWLAuW"
      },
      "execution_count": 113,
      "outputs": []
    },
    {
      "cell_type": "markdown",
      "source": [
        "Agora usaremos np.matrix:"
      ],
      "metadata": {
        "id": "hnbp_vTMLH4Y"
      }
    },
    {
      "cell_type": "code",
      "source": [
        "minhaMatriz = np.matrix(minhaLista)\n",
        "minhaMatriz"
      ],
      "metadata": {
        "colab": {
          "base_uri": "https://localhost:8080/"
        },
        "id": "6H3-jdkrLKQ1",
        "outputId": "93af6896-42f9-4738-be1b-ef4799b9ebab"
      },
      "execution_count": 114,
      "outputs": [
        {
          "output_type": "execute_result",
          "data": {
            "text/plain": [
              "matrix([[13, 81, 22],\n",
              "        [ 0, 34, 59],\n",
              "        [21, 48, 94]])"
            ]
          },
          "metadata": {},
          "execution_count": 114
        }
      ]
    },
    {
      "cell_type": "markdown",
      "source": [
        "np.zeros: pode formar vetores e matrizes:"
      ],
      "metadata": {
        "id": "G6gR9GDNMuP4"
      }
    },
    {
      "cell_type": "code",
      "source": [
        "# Vetor:\n",
        "x = np.zeros(3)\n",
        "x"
      ],
      "metadata": {
        "colab": {
          "base_uri": "https://localhost:8080/"
        },
        "id": "YkWHErE_L9lO",
        "outputId": "b41c079b-0af1-4ce1-de42-14ff5ac4f268"
      },
      "execution_count": 115,
      "outputs": [
        {
          "output_type": "execute_result",
          "data": {
            "text/plain": [
              "array([0., 0., 0.])"
            ]
          },
          "metadata": {},
          "execution_count": 115
        }
      ]
    },
    {
      "cell_type": "code",
      "source": [
        "# Matriz:\n",
        "x = np.zeros((3, 2))  # 3 - linhas, 2 - colunas.\n",
        "x"
      ],
      "metadata": {
        "colab": {
          "base_uri": "https://localhost:8080/"
        },
        "id": "t7I7TVVsM6WS",
        "outputId": "eed3daa3-b1bf-4a88-91e9-20d503231be8"
      },
      "execution_count": 116,
      "outputs": [
        {
          "output_type": "execute_result",
          "data": {
            "text/plain": [
              "array([[0., 0.],\n",
              "       [0., 0.],\n",
              "       [0., 0.]])"
            ]
          },
          "metadata": {},
          "execution_count": 116
        }
      ]
    },
    {
      "cell_type": "markdown",
      "source": [
        "Outra forma: sem armazenar em variáveis:"
      ],
      "metadata": {
        "id": "DqKwtbq8N0Kl"
      }
    },
    {
      "cell_type": "code",
      "source": [
        "# Vetor:\n",
        "print(np.zeros(3))"
      ],
      "metadata": {
        "id": "Pw8k5iGUNnE0"
      },
      "execution_count": null,
      "outputs": []
    },
    {
      "cell_type": "code",
      "source": [
        "# Matriz:\n",
        "print(np.zeros((3, 2)))"
      ],
      "metadata": {
        "id": "II4TH9AsNvyd"
      },
      "execution_count": null,
      "outputs": []
    },
    {
      "cell_type": "markdown",
      "source": [
        "np.ones:"
      ],
      "metadata": {
        "id": "dazzj0rjODB_"
      }
    },
    {
      "cell_type": "code",
      "source": [
        "x = np.ones((5, 3)) \n",
        "x"
      ],
      "metadata": {
        "id": "Vnj1IiGuOEoY"
      },
      "execution_count": null,
      "outputs": []
    },
    {
      "cell_type": "markdown",
      "source": [
        "Igualmente, é possível para apenas um vetor:"
      ],
      "metadata": {
        "id": "cpTffB1rOdLC"
      }
    },
    {
      "cell_type": "code",
      "source": [
        "y = np.ones(5)\n",
        "y"
      ],
      "metadata": {
        "id": "-e1JYZzIOhBH"
      },
      "execution_count": null,
      "outputs": []
    },
    {
      "cell_type": "markdown",
      "source": [
        "**Desafio**: Como obter uma matriz 4x4 apenas com números 8?"
      ],
      "metadata": {
        "id": "ikgDQ-79OnmL"
      }
    },
    {
      "cell_type": "code",
      "source": [
        "m = np.ones((4, 4)) * 8\n",
        "m"
      ],
      "metadata": {
        "id": "SykPm--HOtBL"
      },
      "execution_count": null,
      "outputs": []
    },
    {
      "cell_type": "markdown",
      "source": [
        "np.diag para formar matrizes:"
      ],
      "metadata": {
        "id": "9E4Mdwv0PfKG"
      }
    },
    {
      "cell_type": "markdown",
      "source": [
        "Os valores passados como parâmetro formam uma diagonal:"
      ],
      "metadata": {
        "id": "gQ1v5wehPkTC"
      }
    },
    {
      "cell_type": "code",
      "source": [
        "z = np.diag(np.array([1, 2, 3, 4, 5, 6]))\n",
        "z"
      ],
      "metadata": {
        "id": "UqyeGA0MPoXL"
      },
      "execution_count": null,
      "outputs": []
    },
    {
      "cell_type": "markdown",
      "source": [
        "np.eye para formar matrizes:"
      ],
      "metadata": {
        "id": "1EPf8PNvPvNC"
      }
    },
    {
      "cell_type": "code",
      "source": [
        "y = np.eye(5)\n",
        "y"
      ],
      "metadata": {
        "id": "7LB8MuSlPxdd"
      },
      "execution_count": null,
      "outputs": []
    },
    {
      "cell_type": "markdown",
      "source": [
        "Agora, determinando o tipo int:"
      ],
      "metadata": {
        "id": "kTCQCgk9P3dd"
      }
    },
    {
      "cell_type": "code",
      "source": [
        "y = np.eye(5, dtype=int)\n",
        "y"
      ],
      "metadata": {
        "id": "_XOSAP1DP5ay"
      },
      "execution_count": null,
      "outputs": []
    },
    {
      "cell_type": "markdown",
      "source": [
        "Verificando o shape (forma) de duas maneiras:"
      ],
      "metadata": {
        "id": "0yr_gURHQeP2"
      }
    },
    {
      "cell_type": "code",
      "source": [
        "np.shape(minhaMatriz)"
      ],
      "metadata": {
        "id": "_MH0ZpFVRJan"
      },
      "execution_count": null,
      "outputs": []
    },
    {
      "cell_type": "code",
      "source": [
        "# Ou:\n",
        "minhaMatriz.shape"
      ],
      "metadata": {
        "id": "uGHO2g_eRNvY"
      },
      "execution_count": null,
      "outputs": []
    },
    {
      "cell_type": "markdown",
      "source": [
        "Verificando o tipo da matriz:"
      ],
      "metadata": {
        "id": "fkh-ngSGRpXA"
      }
    },
    {
      "cell_type": "code",
      "source": [
        "type(minhaMatriz)"
      ],
      "metadata": {
        "id": "-A7ExsskSJXU"
      },
      "execution_count": null,
      "outputs": []
    },
    {
      "cell_type": "markdown",
      "source": [
        "Verificando o tipo dos dados da matriz:"
      ],
      "metadata": {
        "id": "dC0fcZJFSMvm"
      }
    },
    {
      "cell_type": "code",
      "source": [
        "minhaMatriz.dtype"
      ],
      "metadata": {
        "id": "QFj8ucNMSPai"
      },
      "execution_count": null,
      "outputs": []
    },
    {
      "cell_type": "markdown",
      "source": [
        "Selecionando elementos de uma matriz:"
      ],
      "metadata": {
        "id": "lGekm2AgSYjS"
      }
    },
    {
      "cell_type": "code",
      "source": [
        "minhaMatriz[2, 1]"
      ],
      "metadata": {
        "id": "V-6kdc3gSbfA"
      },
      "execution_count": null,
      "outputs": []
    },
    {
      "cell_type": "markdown",
      "source": [
        "Selecionando a primeira linha de uma matriz:"
      ],
      "metadata": {
        "id": "kFBgOeZNSe8a"
      }
    },
    {
      "cell_type": "code",
      "source": [
        "print(minhaMatriz[0, :])"
      ],
      "metadata": {
        "id": "o4QRKUENShHu"
      },
      "execution_count": null,
      "outputs": []
    },
    {
      "cell_type": "markdown",
      "source": [
        "Selecionando a terceira coluna de uma matriz:"
      ],
      "metadata": {
        "id": "jsUkgkp3TBRF"
      }
    },
    {
      "cell_type": "code",
      "source": [
        "print(minhaMatriz[:, 2])"
      ],
      "metadata": {
        "id": "scLx6VRTTDrS"
      },
      "execution_count": null,
      "outputs": []
    },
    {
      "cell_type": "markdown",
      "source": [
        "Alterando um elemento da matriz:"
      ],
      "metadata": {
        "id": "AJjnHRkFTG7-"
      }
    },
    {
      "cell_type": "code",
      "source": [
        "minhaMatriz[1, 0] = 100\n",
        "minhaMatriz"
      ],
      "metadata": {
        "id": "Ktl--C_HTKbr"
      },
      "execution_count": null,
      "outputs": []
    },
    {
      "cell_type": "markdown",
      "source": [
        "Obtendo soma dos valores do array:"
      ],
      "metadata": {
        "id": "qlqrZBgHVlfm"
      }
    },
    {
      "cell_type": "code",
      "source": [
        "meuArray"
      ],
      "metadata": {
        "id": "HGHXDwKdWGUc"
      },
      "execution_count": null,
      "outputs": []
    },
    {
      "cell_type": "code",
      "source": [
        "np.sum(meuArray)"
      ],
      "metadata": {
        "id": "8exBKopqVra9"
      },
      "execution_count": null,
      "outputs": []
    },
    {
      "cell_type": "markdown",
      "source": [
        "Obtendo produto:"
      ],
      "metadata": {
        "id": "EnMq44zZVuGn"
      }
    },
    {
      "cell_type": "code",
      "source": [
        "np.prod(meuArray)"
      ],
      "metadata": {
        "id": "0PmdWfJjVvtu"
      },
      "execution_count": null,
      "outputs": []
    },
    {
      "cell_type": "markdown",
      "source": [
        "Obtendo a **soma acumulada**:"
      ],
      "metadata": {
        "id": "-VC8NHlvVylq"
      }
    },
    {
      "cell_type": "code",
      "source": [
        "np.cumsum(meuArray)"
      ],
      "metadata": {
        "id": "Wb2bp6W_V1PK"
      },
      "execution_count": null,
      "outputs": []
    },
    {
      "cell_type": "markdown",
      "source": [
        "Obtendo o **valor mínimo** do array:"
      ],
      "metadata": {
        "id": "Kj-hXM3ZWOZl"
      }
    },
    {
      "cell_type": "code",
      "source": [
        "meuArray.min()"
      ],
      "metadata": {
        "id": "Y3PBWRcfWRKb"
      },
      "execution_count": null,
      "outputs": []
    },
    {
      "cell_type": "markdown",
      "source": [
        "Obtendo o **valor máximo** do array:"
      ],
      "metadata": {
        "id": "tBWtH-p5WXpZ"
      }
    },
    {
      "cell_type": "code",
      "source": [
        "meuArray.max()"
      ],
      "metadata": {
        "id": "dujzUReJWceP"
      },
      "execution_count": null,
      "outputs": []
    },
    {
      "cell_type": "markdown",
      "source": [
        "Obtendo **média** dos valores do Array:"
      ],
      "metadata": {
        "id": "wsi5D1YUXS7G"
      }
    },
    {
      "cell_type": "code",
      "source": [
        "np.mean(meuArray)"
      ],
      "metadata": {
        "id": "2PQBom54XXIT"
      },
      "execution_count": null,
      "outputs": []
    },
    {
      "cell_type": "markdown",
      "source": [
        "Obtendo **mediana** dos valores do Array:"
      ],
      "metadata": {
        "id": "VY43mSbVXsxE"
      }
    },
    {
      "cell_type": "code",
      "source": [
        "np.median(meuArray)"
      ],
      "metadata": {
        "id": "JoYaz0clXvVT"
      },
      "execution_count": null,
      "outputs": []
    },
    {
      "cell_type": "markdown",
      "source": [
        "Obtendo a **variância** (variação do valor para a média) dos valores do Array:"
      ],
      "metadata": {
        "id": "XieuQGEjX0gp"
      }
    },
    {
      "cell_type": "code",
      "source": [
        "np.var(meuArray)"
      ],
      "metadata": {
        "id": "CBXHa1vBX2Zk"
      },
      "execution_count": null,
      "outputs": []
    },
    {
      "cell_type": "markdown",
      "source": [
        "Obtendo o **desvio padrão** dos valores do Array:"
      ],
      "metadata": {
        "id": "7gOLhVEYX42C"
      }
    },
    {
      "cell_type": "code",
      "source": [
        "np.std(meuArray)"
      ],
      "metadata": {
        "id": "s9yGlSLGX7NY"
      },
      "execution_count": null,
      "outputs": []
    },
    {
      "cell_type": "markdown",
      "source": [
        "Desafio de classe:\n",
        "\n",
        "1 - Criar um array unidimensional usando arange com 20 elementos;\n",
        "\n",
        "2 - 'Varrer' o array para obter os pares;\n",
        "\n",
        "3 - Obter a média, soma, produto, variância e o desvio padrão do array;\n",
        "\n",
        "4 - Saber se os valores são maiores que 5;\n",
        "\n",
        "5 - Obter os valores maiores que 5;"
      ],
      "metadata": {
        "id": "qVF9XD1vZP72"
      }
    },
    {
      "cell_type": "code",
      "source": [
        "# 1:\n",
        "array2 = np.arange(21)\n",
        "array2"
      ],
      "metadata": {
        "colab": {
          "base_uri": "https://localhost:8080/"
        },
        "id": "WLf5Prs8ZhAs",
        "outputId": "1b9f7282-4bcb-49f3-9e19-84d8daf4facf"
      },
      "execution_count": 128,
      "outputs": [
        {
          "output_type": "execute_result",
          "data": {
            "text/plain": [
              "array([ 0,  1,  2,  3,  4,  5,  6,  7,  8,  9, 10, 11, 12, 13, 14, 15, 16,\n",
              "       17, 18, 19, 20])"
            ]
          },
          "metadata": {},
          "execution_count": 128
        }
      ]
    },
    {
      "cell_type": "code",
      "source": [
        "# 2:\n",
        "par = array2[::2]\n",
        "print(f'Números pares: {par}')\n"
      ],
      "metadata": {
        "colab": {
          "base_uri": "https://localhost:8080/"
        },
        "id": "O6mfyEKQZ7Gp",
        "outputId": "2d36f62f-88cf-4511-c8c8-87d2f840dab4"
      },
      "execution_count": 129,
      "outputs": [
        {
          "output_type": "stream",
          "name": "stdout",
          "text": [
            "Números pares: [ 0  2  4  6  8 10 12 14 16 18 20]\n"
          ]
        }
      ]
    },
    {
      "cell_type": "code",
      "source": [
        "# 3:\n",
        "impar = array2[1::2]\n",
        "print(f'Números ímpares: {impar}')"
      ],
      "metadata": {
        "colab": {
          "base_uri": "https://localhost:8080/"
        },
        "id": "YsrxJlIDbh5J",
        "outputId": "4c44f813-e82a-4b6e-e3a2-6fe006fc69c7"
      },
      "execution_count": 130,
      "outputs": [
        {
          "output_type": "stream",
          "name": "stdout",
          "text": [
            "Números ímpares: [ 1  3  5  7  9 11 13 15 17 19]\n"
          ]
        }
      ]
    },
    {
      "cell_type": "code",
      "source": [
        "# 4:\n",
        "media = np.mean(array2)\n",
        "print(f'Média: {media}')\n",
        "\n",
        "soma = np.sum(array2)\n",
        "print(f'Soma: {soma}')\n",
        "\n",
        "produto = np.prod(array2)\n",
        "print(f'Produto: {produto}')\n",
        "\n",
        "var = np.var(array2)\n",
        "print(f'Variância: {var}')\n",
        "\n",
        "des_padrao = np.mean(array2)\n",
        "print(f'Desvio Padrão: {des_padrao}')"
      ],
      "metadata": {
        "colab": {
          "base_uri": "https://localhost:8080/"
        },
        "id": "aDjHyrSKaPuS",
        "outputId": "cc87583a-8dac-4b8c-ad2a-fc0ce7f9099c"
      },
      "execution_count": 131,
      "outputs": [
        {
          "output_type": "stream",
          "name": "stdout",
          "text": [
            "Média: 10.0\n",
            "Soma: 210\n",
            "Produto: 0\n",
            "Variância: 36.666666666666664\n",
            "Desvio Padrão: 10.0\n"
          ]
        }
      ]
    },
    {
      "cell_type": "code",
      "source": [
        "# 4:\n",
        "array2 > 5"
      ],
      "metadata": {
        "colab": {
          "base_uri": "https://localhost:8080/"
        },
        "id": "xRgKwLXKer8K",
        "outputId": "3320353d-75f3-4a44-9330-110b54eaba83"
      },
      "execution_count": 132,
      "outputs": [
        {
          "output_type": "execute_result",
          "data": {
            "text/plain": [
              "array([False, False, False, False, False, False,  True,  True,  True,\n",
              "        True,  True,  True,  True,  True,  True,  True,  True,  True,\n",
              "        True,  True,  True])"
            ]
          },
          "metadata": {},
          "execution_count": 132
        }
      ]
    },
    {
      "cell_type": "code",
      "source": [
        "# 5:\n",
        "maior = array2[array2 > 5]\n",
        "print(f'Números maiores que 5: {maior}')"
      ],
      "metadata": {
        "colab": {
          "base_uri": "https://localhost:8080/"
        },
        "id": "0NtE1UMObxz5",
        "outputId": "0e0a4a34-f04c-430d-810a-6a8030f1f1a1"
      },
      "execution_count": 133,
      "outputs": [
        {
          "output_type": "stream",
          "name": "stdout",
          "text": [
            "Números maiores que 5: [ 6  7  8  9 10 11 12 13 14 15 16 17 18 19 20]\n"
          ]
        }
      ]
    }
  ]
}