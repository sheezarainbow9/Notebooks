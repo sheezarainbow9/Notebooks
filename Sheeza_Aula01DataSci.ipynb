{
  "nbformat": 4,
  "nbformat_minor": 0,
  "metadata": {
    "colab": {
      "name": "Cópia de Aula01DataSci.ipynb",
      "provenance": [],
      "collapsed_sections": []
    },
    "kernelspec": {
      "name": "python3",
      "display_name": "Python 3"
    },
    "language_info": {
      "name": "python"
    }
  },
  "cells": [
    {
      "cell_type": "code",
      "source": [
        "import numpy as np"
      ],
      "metadata": {
        "id": "0BJL6rrghUY7"
      },
      "execution_count": 1,
      "outputs": []
    },
    {
      "cell_type": "code",
      "execution_count": 2,
      "metadata": {
        "id": "ZX7vfGiXhPMq",
        "colab": {
          "base_uri": "https://localhost:8080/"
        },
        "outputId": "1c765654-d041-4deb-975a-f435eb6d8e87"
      },
      "outputs": [
        {
          "output_type": "execute_result",
          "data": {
            "text/plain": [
              "[0, 1, 2, 3, 4, 5, 6, 7, 8]"
            ]
          },
          "metadata": {},
          "execution_count": 2
        }
      ],
      "source": [
        "minhaLista = [0, 1, 2, 3, 4, 5, 6, 7, 8]\n",
        "minhaLista"
      ]
    },
    {
      "cell_type": "markdown",
      "source": [
        "# Transformando a lista num Array NumPy"
      ],
      "metadata": {
        "id": "5pti31JDirg7"
      }
    },
    {
      "cell_type": "code",
      "source": [
        "meuArray = np.array(minhaLista)\n",
        "meuArray"
      ],
      "metadata": {
        "colab": {
          "base_uri": "https://localhost:8080/"
        },
        "id": "riG-fHVpiTo9",
        "outputId": "82ef7c56-0558-4aaf-e0cd-70fc724132c3"
      },
      "execution_count": 3,
      "outputs": [
        {
          "output_type": "execute_result",
          "data": {
            "text/plain": [
              "array([0, 1, 2, 3, 4, 5, 6, 7, 8])"
            ]
          },
          "metadata": {},
          "execution_count": 3
        }
      ]
    },
    {
      "cell_type": "code",
      "source": [
        "minhaLista = list(range(9))\n",
        "minhaLista"
      ],
      "metadata": {
        "colab": {
          "base_uri": "https://localhost:8080/"
        },
        "id": "jPG_S3AjjHzv",
        "outputId": "9eb6f6a9-e41e-4b17-963a-1556db2ad907"
      },
      "execution_count": 4,
      "outputs": [
        {
          "output_type": "execute_result",
          "data": {
            "text/plain": [
              "[0, 1, 2, 3, 4, 5, 6, 7, 8]"
            ]
          },
          "metadata": {},
          "execution_count": 4
        }
      ]
    },
    {
      "cell_type": "code",
      "source": [
        "array1 = np.array(range(9))\n",
        "array1"
      ],
      "metadata": {
        "colab": {
          "base_uri": "https://localhost:8080/"
        },
        "id": "zgmtzHP5j5BB",
        "outputId": "7e3a87e4-54e5-492a-b9d0-94d7991b74fa"
      },
      "execution_count": 5,
      "outputs": [
        {
          "output_type": "execute_result",
          "data": {
            "text/plain": [
              "array([0, 1, 2, 3, 4, 5, 6, 7, 8])"
            ]
          },
          "metadata": {},
          "execution_count": 5
        }
      ]
    },
    {
      "cell_type": "markdown",
      "source": [
        "Fazendo as etapas anteriores com uma sintaxe:"
      ],
      "metadata": {
        "id": "6lNoN8-GkSaj"
      }
    },
    {
      "cell_type": "code",
      "source": [
        "array2 = np.arange(9)\n",
        "array2"
      ],
      "metadata": {
        "colab": {
          "base_uri": "https://localhost:8080/"
        },
        "id": "dnbVoW6IkIDV",
        "outputId": "d3c04acf-8b10-453b-b773-03e7b54256d7"
      },
      "execution_count": 6,
      "outputs": [
        {
          "output_type": "execute_result",
          "data": {
            "text/plain": [
              "array([0, 1, 2, 3, 4, 5, 6, 7, 8])"
            ]
          },
          "metadata": {},
          "execution_count": 6
        }
      ]
    },
    {
      "cell_type": "markdown",
      "source": [
        "Start, stop, step:"
      ],
      "metadata": {
        "id": "06S99i8VkcUm"
      }
    },
    {
      "cell_type": "code",
      "source": [
        "array3 = np.arange(0, 10, 0.5)\n",
        "array3"
      ],
      "metadata": {
        "colab": {
          "base_uri": "https://localhost:8080/"
        },
        "id": "TiqKklQXkeqY",
        "outputId": "b510581e-9ae6-4513-a78d-464f59d881ce"
      },
      "execution_count": 7,
      "outputs": [
        {
          "output_type": "execute_result",
          "data": {
            "text/plain": [
              "array([0. , 0.5, 1. , 1.5, 2. , 2.5, 3. , 3.5, 4. , 4.5, 5. , 5.5, 6. ,\n",
              "       6.5, 7. , 7.5, 8. , 8.5, 9. , 9.5])"
            ]
          },
          "metadata": {},
          "execution_count": 7
        }
      ]
    },
    {
      "cell_type": "markdown",
      "source": [
        "Arredondando os valores obtidos:"
      ],
      "metadata": {
        "id": "1D62h2rFkq9E"
      }
    },
    {
      "cell_type": "code",
      "source": [
        "novoArray = np.around(array3)\n",
        "novoArray"
      ],
      "metadata": {
        "colab": {
          "base_uri": "https://localhost:8080/"
        },
        "id": "hwxg8ij6kukX",
        "outputId": "f371645f-5e08-4d57-bb20-b5374b7bf5f5"
      },
      "execution_count": 8,
      "outputs": [
        {
          "output_type": "execute_result",
          "data": {
            "text/plain": [
              "array([ 0.,  0.,  1.,  2.,  2.,  2.,  3.,  4.,  4.,  4.,  5.,  6.,  6.,\n",
              "        6.,  7.,  8.,  8.,  8.,  9., 10.])"
            ]
          },
          "metadata": {},
          "execution_count": 8
        }
      ]
    },
    {
      "cell_type": "markdown",
      "source": [
        "Podemos 'forçar' o tipo dos elementos:"
      ],
      "metadata": {
        "id": "s9NqGSIjk5g-"
      }
    },
    {
      "cell_type": "code",
      "source": [
        "array3 = np.arange(0, 10, 0.5, dtype=int)\n",
        "array3"
      ],
      "metadata": {
        "id": "iX11DmaCk9qD",
        "colab": {
          "base_uri": "https://localhost:8080/"
        },
        "outputId": "2e1a26fe-ac30-481c-8458-e9b258f59291"
      },
      "execution_count": 9,
      "outputs": [
        {
          "output_type": "execute_result",
          "data": {
            "text/plain": [
              "array([0, 0, 0, 0, 0, 0, 0, 0, 0, 0, 0, 0, 0, 0, 0, 0, 0, 0, 0, 0])"
            ]
          },
          "metadata": {},
          "execution_count": 9
        }
      ]
    },
    {
      "cell_type": "markdown",
      "source": [
        "Podemos pré determinar o tipo dos elementos:"
      ],
      "metadata": {
        "id": "HvBABqHtl-e9"
      }
    },
    {
      "cell_type": "code",
      "source": [
        "array4 = np.arange(12)\n",
        "array4"
      ],
      "metadata": {
        "colab": {
          "base_uri": "https://localhost:8080/"
        },
        "id": "1xofluL8mDeT",
        "outputId": "ecc6b77a-3424-4d4b-b175-b52c6c6ae83f"
      },
      "execution_count": 11,
      "outputs": [
        {
          "output_type": "execute_result",
          "data": {
            "text/plain": [
              "array([ 0,  1,  2,  3,  4,  5,  6,  7,  8,  9, 10, 11])"
            ]
          },
          "metadata": {},
          "execution_count": 11
        }
      ]
    },
    {
      "cell_type": "code",
      "source": [
        ""
      ],
      "metadata": {
        "id": "dHP2ynTjvJQC"
      },
      "execution_count": null,
      "outputs": []
    },
    {
      "cell_type": "markdown",
      "source": [
        "Tipo de objeto:"
      ],
      "metadata": {
        "id": "R7CzfzBsmxaf"
      }
    },
    {
      "cell_type": "code",
      "source": [
        "type(array4)"
      ],
      "metadata": {
        "colab": {
          "base_uri": "https://localhost:8080/"
        },
        "id": "NYUhPxBtm0ZG",
        "outputId": "618cdc04-b500-48e1-99bd-ee37e8194416"
      },
      "execution_count": 12,
      "outputs": [
        {
          "output_type": "execute_result",
          "data": {
            "text/plain": [
              "numpy.ndarray"
            ]
          },
          "metadata": {},
          "execution_count": 12
        }
      ]
    },
    {
      "cell_type": "markdown",
      "source": [
        "Tipo dos elementos do array:"
      ],
      "metadata": {
        "id": "_xzYG8usm5Lz"
      }
    },
    {
      "cell_type": "code",
      "source": [
        "array4.dtype"
      ],
      "metadata": {
        "colab": {
          "base_uri": "https://localhost:8080/"
        },
        "id": "6d-sr11ym7yI",
        "outputId": "1610a589-8c76-417b-d850-f3594eb4d52d"
      },
      "execution_count": 13,
      "outputs": [
        {
          "output_type": "execute_result",
          "data": {
            "text/plain": [
              "dtype('int64')"
            ]
          },
          "metadata": {},
          "execution_count": 13
        }
      ]
    },
    {
      "cell_type": "markdown",
      "source": [
        "Criar arrays digitando seus valores:"
      ],
      "metadata": {
        "id": "NyODz3a1nMS8"
      }
    },
    {
      "cell_type": "code",
      "source": [
        "vetor1 = np.array([0, 1, 2, 3, 4])\n",
        "print(vetor1)"
      ],
      "metadata": {
        "colab": {
          "base_uri": "https://localhost:8080/"
        },
        "id": "FfyXPRhCnSCo",
        "outputId": "a6cb6f1b-1de1-464b-b6d1-cd1084a2c752"
      },
      "execution_count": 14,
      "outputs": [
        {
          "output_type": "stream",
          "name": "stdout",
          "text": [
            "[0 1 2 3 4]\n"
          ]
        }
      ]
    },
    {
      "cell_type": "markdown",
      "source": [
        "Selecionando elemento específico:"
      ],
      "metadata": {
        "id": "_32z8Avinbk7"
      }
    },
    {
      "cell_type": "code",
      "source": [
        "vetor1[3]"
      ],
      "metadata": {
        "colab": {
          "base_uri": "https://localhost:8080/"
        },
        "id": "2xrF6tOlnd2c",
        "outputId": "e98bc6d8-fc63-4058-e9af-24a7238fd6b6"
      },
      "execution_count": 15,
      "outputs": [
        {
          "output_type": "execute_result",
          "data": {
            "text/plain": [
              "3"
            ]
          },
          "metadata": {},
          "execution_count": 15
        }
      ]
    },
    {
      "cell_type": "markdown",
      "source": [
        "Selecionando intervalo específico:"
      ],
      "metadata": {
        "id": "jb2wJRTOngqF"
      }
    },
    {
      "cell_type": "code",
      "source": [
        "vetor1[0:2] # ou : print(vetor1[0:2])"
      ],
      "metadata": {
        "colab": {
          "base_uri": "https://localhost:8080/"
        },
        "id": "24duywDVnlYk",
        "outputId": "c27c5fe1-6135-4242-a22c-5843a7cd0f45"
      },
      "execution_count": 16,
      "outputs": [
        {
          "output_type": "execute_result",
          "data": {
            "text/plain": [
              "array([0, 1])"
            ]
          },
          "metadata": {},
          "execution_count": 16
        }
      ]
    },
    {
      "cell_type": "markdown",
      "source": [
        "Alterando um elemento do array:"
      ],
      "metadata": {
        "id": "wBmwHWj1oLN1"
      }
    },
    {
      "cell_type": "code",
      "source": [
        "vetor1[2] = 10\n",
        "vetor1"
      ],
      "metadata": {
        "colab": {
          "base_uri": "https://localhost:8080/"
        },
        "id": "KiUHwerVoOQV",
        "outputId": "14789f26-826f-4f1c-e114-bb01b6246863"
      },
      "execution_count": 18,
      "outputs": [
        {
          "output_type": "execute_result",
          "data": {
            "text/plain": [
              "array([ 0,  1, 10,  3,  4])"
            ]
          },
          "metadata": {},
          "execution_count": 18
        }
      ]
    },
    {
      "cell_type": "markdown",
      "source": [
        "Tentar incluir elementos:"
      ],
      "metadata": {
        "id": "M4Yw0yAroXHD"
      }
    },
    {
      "cell_type": "code",
      "source": [
        "# vetor1[0] = 'Novo elemento'\n",
        "vetor1[0] = 45.6\n",
        "vetor1"
      ],
      "metadata": {
        "colab": {
          "base_uri": "https://localhost:8080/"
        },
        "id": "XEETD1G6oZBW",
        "outputId": "7cc897d7-eda9-41ed-a2e4-af1200d61f6c"
      },
      "execution_count": 20,
      "outputs": [
        {
          "output_type": "execute_result",
          "data": {
            "text/plain": [
              "array([45,  1, 10,  3,  4])"
            ]
          },
          "metadata": {},
          "execution_count": 20
        }
      ]
    },
    {
      "cell_type": "markdown",
      "source": [
        "Criando 1a matriz:"
      ],
      "metadata": {
        "id": "_kBv72L-pIWA"
      }
    },
    {
      "cell_type": "code",
      "source": [
        "matriz1 = np.array([[1, 2, 3], [4, 5, 6]])\n",
        "matriz1"
      ],
      "metadata": {
        "colab": {
          "base_uri": "https://localhost:8080/"
        },
        "id": "WmS9urXppLPe",
        "outputId": "260d59e7-be6a-4156-b64d-950a22927680"
      },
      "execution_count": 22,
      "outputs": [
        {
          "output_type": "execute_result",
          "data": {
            "text/plain": [
              "array([[1, 2, 3],\n",
              "       [4, 5, 6]])"
            ]
          },
          "metadata": {},
          "execution_count": 22
        }
      ]
    },
    {
      "cell_type": "markdown",
      "source": [
        "Criar matriz a partir de uma lista:"
      ],
      "metadata": {
        "id": "fu5Tmpvyp4Jt"
      }
    },
    {
      "cell_type": "code",
      "source": [
        "minhaLista = [[13, 81, 22], [0, 34, 59], [21, 48, 94]]"
      ],
      "metadata": {
        "id": "Q2heVFXzp6tL"
      },
      "execution_count": 58,
      "outputs": []
    },
    {
      "cell_type": "markdown",
      "source": [
        "Agora usaremos np.matrix:"
      ],
      "metadata": {
        "id": "AwEC_rY6qJe5"
      }
    },
    {
      "cell_type": "code",
      "source": [
        "matriz2 = np.matrix(minhaLista)\n",
        "matriz2"
      ],
      "metadata": {
        "colab": {
          "base_uri": "https://localhost:8080/"
        },
        "id": "g86SvvnjqMcG",
        "outputId": "a9c5d609-3a30-40d8-ea5d-981c38bf45e5"
      },
      "execution_count": 59,
      "outputs": [
        {
          "output_type": "execute_result",
          "data": {
            "text/plain": [
              "matrix([[13, 81, 22],\n",
              "        [ 0, 34, 59],\n",
              "        [21, 48, 94]])"
            ]
          },
          "metadata": {},
          "execution_count": 59
        }
      ]
    },
    {
      "cell_type": "markdown",
      "source": [
        "np.zeros: pode formar vetores e matrizes:"
      ],
      "metadata": {
        "id": "JtVr3WF8qv9p"
      }
    },
    {
      "cell_type": "code",
      "source": [
        "x = np.zeros(3)\n",
        "x"
      ],
      "metadata": {
        "colab": {
          "base_uri": "https://localhost:8080/"
        },
        "id": "7jhGj6HDq-DS",
        "outputId": "9feb88bd-401c-426e-dce4-73caf2a96987"
      },
      "execution_count": 30,
      "outputs": [
        {
          "output_type": "execute_result",
          "data": {
            "text/plain": [
              "array([0., 0., 0.])"
            ]
          },
          "metadata": {},
          "execution_count": 30
        }
      ]
    },
    {
      "cell_type": "code",
      "source": [
        "x = np.zeros((3, 2))\n",
        "x"
      ],
      "metadata": {
        "colab": {
          "base_uri": "https://localhost:8080/"
        },
        "id": "EiKtt4YdrGlD",
        "outputId": "15c81ccb-eb4f-43f8-d906-7a28ed97253e"
      },
      "execution_count": 31,
      "outputs": [
        {
          "output_type": "execute_result",
          "data": {
            "text/plain": [
              "array([[0., 0.],\n",
              "       [0., 0.],\n",
              "       [0., 0.]])"
            ]
          },
          "metadata": {},
          "execution_count": 31
        }
      ]
    },
    {
      "cell_type": "markdown",
      "source": [
        "Sem armazenar em variáveis:"
      ],
      "metadata": {
        "id": "HfAVMbAWreht"
      }
    },
    {
      "cell_type": "code",
      "source": [
        "print(np.zeros(3))"
      ],
      "metadata": {
        "colab": {
          "base_uri": "https://localhost:8080/"
        },
        "id": "LvJl9jiLrhfY",
        "outputId": "63693fc0-1cc4-49d3-c680-c822034bd8a5"
      },
      "execution_count": 32,
      "outputs": [
        {
          "output_type": "stream",
          "name": "stdout",
          "text": [
            "[0. 0. 0.]\n"
          ]
        }
      ]
    },
    {
      "cell_type": "markdown",
      "source": [
        "np.ones:"
      ],
      "metadata": {
        "id": "_Xx6B4nArukm"
      }
    },
    {
      "cell_type": "code",
      "source": [
        "x = np.ones((5, 3))\n",
        "x"
      ],
      "metadata": {
        "colab": {
          "base_uri": "https://localhost:8080/"
        },
        "id": "kyPQiAn3rw71",
        "outputId": "f08d2985-f4ee-47ae-9f29-b1ed7a73cc26"
      },
      "execution_count": 33,
      "outputs": [
        {
          "output_type": "execute_result",
          "data": {
            "text/plain": [
              "array([[1., 1., 1.],\n",
              "       [1., 1., 1.],\n",
              "       [1., 1., 1.],\n",
              "       [1., 1., 1.],\n",
              "       [1., 1., 1.]])"
            ]
          },
          "metadata": {},
          "execution_count": 33
        }
      ]
    },
    {
      "cell_type": "markdown",
      "source": [
        "Para apenas um vetor:"
      ],
      "metadata": {
        "id": "biO4N3qDr2RS"
      }
    },
    {
      "cell_type": "code",
      "source": [
        "y = np.ones(5)\n",
        "y"
      ],
      "metadata": {
        "colab": {
          "base_uri": "https://localhost:8080/"
        },
        "id": "tmSs5SWer4Yp",
        "outputId": "cbcafdf3-4303-444c-f89d-e1d487da85a7"
      },
      "execution_count": 34,
      "outputs": [
        {
          "output_type": "execute_result",
          "data": {
            "text/plain": [
              "array([1., 1., 1., 1., 1.])"
            ]
          },
          "metadata": {},
          "execution_count": 34
        }
      ]
    },
    {
      "cell_type": "markdown",
      "source": [
        "Desafio: como obter uma matriz 4x4 apenas com números 8?"
      ],
      "metadata": {
        "id": "lKh1t7IIr8oG"
      }
    },
    {
      "cell_type": "code",
      "source": [
        "m = np.ones((4,4)) * 8\n",
        "m"
      ],
      "metadata": {
        "id": "fBhgX58RsB9S"
      },
      "execution_count": null,
      "outputs": []
    },
    {
      "cell_type": "markdown",
      "source": [
        "np.diag para formar matrizes: Valores passados como parâmetro formam uma diagonal:"
      ],
      "metadata": {
        "id": "aya8bVS1tvyX"
      }
    },
    {
      "cell_type": "code",
      "source": [
        "z = np.diag(np.array([1, 2, 3, 4, 5, 6]))\n",
        "z"
      ],
      "metadata": {
        "colab": {
          "base_uri": "https://localhost:8080/"
        },
        "id": "inZslyPxt3vP",
        "outputId": "e46727f2-bcee-4298-ec10-8d0310526b2e"
      },
      "execution_count": 53,
      "outputs": [
        {
          "output_type": "execute_result",
          "data": {
            "text/plain": [
              "array([[1, 0, 0, 0, 0, 0],\n",
              "       [0, 2, 0, 0, 0, 0],\n",
              "       [0, 0, 3, 0, 0, 0],\n",
              "       [0, 0, 0, 4, 0, 0],\n",
              "       [0, 0, 0, 0, 5, 0],\n",
              "       [0, 0, 0, 0, 0, 6]])"
            ]
          },
          "metadata": {},
          "execution_count": 53
        }
      ]
    },
    {
      "cell_type": "markdown",
      "source": [
        "np.eye para formar matrizes:"
      ],
      "metadata": {
        "id": "JNR22dIIuBlC"
      }
    },
    {
      "cell_type": "code",
      "source": [
        "y = np.eye(5)\n",
        "5"
      ],
      "metadata": {
        "colab": {
          "base_uri": "https://localhost:8080/"
        },
        "id": "sVe1vIeRuDpo",
        "outputId": "1e46cd26-00f1-4f34-e694-022a24952cac"
      },
      "execution_count": 55,
      "outputs": [
        {
          "output_type": "execute_result",
          "data": {
            "text/plain": [
              "5"
            ]
          },
          "metadata": {},
          "execution_count": 55
        }
      ]
    },
    {
      "cell_type": "markdown",
      "source": [
        "agora, determinando o tipo  int:"
      ],
      "metadata": {
        "id": "gasl_h-4uNXN"
      }
    },
    {
      "cell_type": "code",
      "source": [
        "y = np.eye(5, dtype = int)\n",
        "y"
      ],
      "metadata": {
        "colab": {
          "base_uri": "https://localhost:8080/"
        },
        "id": "HM-cM1TAuPcY",
        "outputId": "8f1575a9-a6c9-4b22-ffb9-39d34af9600a"
      },
      "execution_count": 56,
      "outputs": [
        {
          "output_type": "execute_result",
          "data": {
            "text/plain": [
              "array([[1, 0, 0, 0, 0],\n",
              "       [0, 1, 0, 0, 0],\n",
              "       [0, 0, 1, 0, 0],\n",
              "       [0, 0, 0, 1, 0],\n",
              "       [0, 0, 0, 0, 1]])"
            ]
          },
          "metadata": {},
          "execution_count": 56
        }
      ]
    },
    {
      "cell_type": "markdown",
      "source": [
        "Verificando o shape (forma) de 2 maneiras:"
      ],
      "metadata": {
        "id": "pzfAJKa3vaUr"
      }
    },
    {
      "cell_type": "code",
      "source": [
        "np.shape(matriz2) # ou matriz2.shape"
      ],
      "metadata": {
        "colab": {
          "base_uri": "https://localhost:8080/"
        },
        "id": "nfzKFvalvdbZ",
        "outputId": "18ce255d-b888-4fc9-feef-9f2cf108ba0d"
      },
      "execution_count": 60,
      "outputs": [
        {
          "output_type": "execute_result",
          "data": {
            "text/plain": [
              "(3, 3)"
            ]
          },
          "metadata": {},
          "execution_count": 60
        }
      ]
    },
    {
      "cell_type": "markdown",
      "source": [
        "Verificando o tipo da matriz:"
      ],
      "metadata": {
        "id": "idzJVQhNv4mB"
      }
    },
    {
      "cell_type": "code",
      "source": [
        "type(matriz2)"
      ],
      "metadata": {
        "colab": {
          "base_uri": "https://localhost:8080/"
        },
        "id": "pn1FOUEiv7HP",
        "outputId": "81d96c67-5987-404b-9a84-27043566980a"
      },
      "execution_count": 61,
      "outputs": [
        {
          "output_type": "execute_result",
          "data": {
            "text/plain": [
              "numpy.matrix"
            ]
          },
          "metadata": {},
          "execution_count": 61
        }
      ]
    },
    {
      "cell_type": "markdown",
      "source": [
        "Verificando o tipo de dados da matriz:"
      ],
      "metadata": {
        "id": "AYp5uSvNv-HS"
      }
    },
    {
      "cell_type": "code",
      "source": [
        "matriz2.dtype"
      ],
      "metadata": {
        "colab": {
          "base_uri": "https://localhost:8080/"
        },
        "id": "0uKPLbRwwASR",
        "outputId": "367d1369-f74d-43ac-877b-1872bc777381"
      },
      "execution_count": 62,
      "outputs": [
        {
          "output_type": "execute_result",
          "data": {
            "text/plain": [
              "dtype('int64')"
            ]
          },
          "metadata": {},
          "execution_count": 62
        }
      ]
    },
    {
      "cell_type": "markdown",
      "source": [
        "Selecionando elementos de uma matriz:"
      ],
      "metadata": {
        "id": "5adRGGfRwL-w"
      }
    },
    {
      "cell_type": "code",
      "source": [
        "matriz2[2, 1]"
      ],
      "metadata": {
        "colab": {
          "base_uri": "https://localhost:8080/"
        },
        "id": "4WgjrqebwOlE",
        "outputId": "6e0d62de-4a32-4718-d893-0bcd32a39c6d"
      },
      "execution_count": 63,
      "outputs": [
        {
          "output_type": "execute_result",
          "data": {
            "text/plain": [
              "48"
            ]
          },
          "metadata": {},
          "execution_count": 63
        }
      ]
    },
    {
      "cell_type": "markdown",
      "source": [
        "Selecionando a 1a linha de uma matriz:"
      ],
      "metadata": {
        "id": "MV9iBIt1wT_r"
      }
    },
    {
      "cell_type": "code",
      "source": [
        "print(matriz2[0,:])"
      ],
      "metadata": {
        "colab": {
          "base_uri": "https://localhost:8080/"
        },
        "id": "AWS8cJC9wW0V",
        "outputId": "a20baf37-03d1-4032-b67b-1d26c8a54fd0"
      },
      "execution_count": 64,
      "outputs": [
        {
          "output_type": "stream",
          "name": "stdout",
          "text": [
            "[[13 81 22]]\n"
          ]
        }
      ]
    },
    {
      "cell_type": "markdown",
      "source": [
        "Selecionando a 3a coluna de uma matriz:"
      ],
      "metadata": {
        "id": "A5ElTbU0wbPE"
      }
    },
    {
      "cell_type": "code",
      "source": [
        "print(matriz2[:,2])"
      ],
      "metadata": {
        "colab": {
          "base_uri": "https://localhost:8080/"
        },
        "id": "L9zQ2leHweNp",
        "outputId": "0f7b9f3e-4493-40d7-ab59-f69590a775ae"
      },
      "execution_count": 65,
      "outputs": [
        {
          "output_type": "stream",
          "name": "stdout",
          "text": [
            "[[22]\n",
            " [59]\n",
            " [94]]\n"
          ]
        }
      ]
    },
    {
      "cell_type": "markdown",
      "source": [
        "Alterando um elemento da matriz:"
      ],
      "metadata": {
        "id": "Imf9K_mawlJl"
      }
    },
    {
      "cell_type": "code",
      "source": [
        "matriz2[1, 0] = 100\n",
        "matriz2"
      ],
      "metadata": {
        "colab": {
          "base_uri": "https://localhost:8080/"
        },
        "id": "dbWNCNBHwoFb",
        "outputId": "39652087-b8a6-44cf-b4de-65b035e2bff0"
      },
      "execution_count": 66,
      "outputs": [
        {
          "output_type": "execute_result",
          "data": {
            "text/plain": [
              "matrix([[ 13,  81,  22],\n",
              "        [100,  34,  59],\n",
              "        [ 21,  48,  94]])"
            ]
          },
          "metadata": {},
          "execution_count": 66
        }
      ]
    },
    {
      "cell_type": "markdown",
      "source": [
        "Operações básicas: Soma dos valores do array:"
      ],
      "metadata": {
        "id": "7Okqi9I0xVAd"
      }
    },
    {
      "cell_type": "code",
      "source": [
        "np.sum(meuArray)"
      ],
      "metadata": {
        "colab": {
          "base_uri": "https://localhost:8080/"
        },
        "id": "ncVGHSehxZrs",
        "outputId": "a1101e98-a4c6-404f-cca9-a315d952909b"
      },
      "execution_count": 67,
      "outputs": [
        {
          "output_type": "execute_result",
          "data": {
            "text/plain": [
              "36"
            ]
          },
          "metadata": {},
          "execution_count": 67
        }
      ]
    },
    {
      "cell_type": "markdown",
      "source": [
        "Obtendo o produto:"
      ],
      "metadata": {
        "id": "VNYCHT8cxeZo"
      }
    },
    {
      "cell_type": "code",
      "source": [
        "np.prod(meuArray)"
      ],
      "metadata": {
        "colab": {
          "base_uri": "https://localhost:8080/"
        },
        "id": "GHvm5XmNxhmb",
        "outputId": "9482ee6f-c7eb-4a8a-9658-8a332e131d0c"
      },
      "execution_count": 68,
      "outputs": [
        {
          "output_type": "execute_result",
          "data": {
            "text/plain": [
              "0"
            ]
          },
          "metadata": {},
          "execution_count": 68
        }
      ]
    },
    {
      "cell_type": "markdown",
      "source": [
        "Soma acumulada:"
      ],
      "metadata": {
        "id": "xha7YK4Yxkm_"
      }
    },
    {
      "cell_type": "code",
      "source": [
        "np.cumsum(meuArray)"
      ],
      "metadata": {
        "colab": {
          "base_uri": "https://localhost:8080/"
        },
        "id": "Z6We6wTPxmpv",
        "outputId": "9e80fc07-587c-45a3-9e41-439fe2ebae3e"
      },
      "execution_count": 69,
      "outputs": [
        {
          "output_type": "execute_result",
          "data": {
            "text/plain": [
              "array([ 0,  1,  3,  6, 10, 15, 21, 28, 36])"
            ]
          },
          "metadata": {},
          "execution_count": 69
        }
      ]
    },
    {
      "cell_type": "markdown",
      "source": [
        "Obtendo o valor mínimo do array:"
      ],
      "metadata": {
        "id": "7mevHpvex3Lp"
      }
    },
    {
      "cell_type": "code",
      "source": [
        "meuArray.min()"
      ],
      "metadata": {
        "colab": {
          "base_uri": "https://localhost:8080/"
        },
        "id": "wYsXNPktx5pN",
        "outputId": "82c50a83-00c1-4cb6-8688-94d1e2d3da92"
      },
      "execution_count": 71,
      "outputs": [
        {
          "output_type": "execute_result",
          "data": {
            "text/plain": [
              "0"
            ]
          },
          "metadata": {},
          "execution_count": 71
        }
      ]
    },
    {
      "cell_type": "markdown",
      "source": [
        "Obtendo o valor máximo do array:"
      ],
      "metadata": {
        "id": "ZyZqmsxlx-6o"
      }
    },
    {
      "cell_type": "code",
      "source": [
        "meuArray.max()"
      ],
      "metadata": {
        "colab": {
          "base_uri": "https://localhost:8080/"
        },
        "id": "mKq2Q9d6yCyR",
        "outputId": "894971b8-0438-4082-e37f-70a606e75c0d"
      },
      "execution_count": 72,
      "outputs": [
        {
          "output_type": "execute_result",
          "data": {
            "text/plain": [
              "8"
            ]
          },
          "metadata": {},
          "execution_count": 72
        }
      ]
    },
    {
      "cell_type": "markdown",
      "source": [
        "Média dos valores do array:"
      ],
      "metadata": {
        "id": "1M4zGsVGyYJx"
      }
    },
    {
      "cell_type": "code",
      "source": [
        "np.mean(meuArray)"
      ],
      "metadata": {
        "colab": {
          "base_uri": "https://localhost:8080/"
        },
        "id": "9PnJBAdqyaoW",
        "outputId": "432e22e9-2e66-4a29-c720-1ecdd9167e34"
      },
      "execution_count": 73,
      "outputs": [
        {
          "output_type": "execute_result",
          "data": {
            "text/plain": [
              "4.0"
            ]
          },
          "metadata": {},
          "execution_count": 73
        }
      ]
    },
    {
      "cell_type": "markdown",
      "source": [
        "Mediana:"
      ],
      "metadata": {
        "id": "PQwm24UDydzP"
      }
    },
    {
      "cell_type": "code",
      "source": [
        "np.median(meuArray)"
      ],
      "metadata": {
        "colab": {
          "base_uri": "https://localhost:8080/"
        },
        "id": "cYmLTj9RygJp",
        "outputId": "8c04ef4a-e5c8-4877-8505-23a40e7fe856"
      },
      "execution_count": 74,
      "outputs": [
        {
          "output_type": "execute_result",
          "data": {
            "text/plain": [
              "4.0"
            ]
          },
          "metadata": {},
          "execution_count": 74
        }
      ]
    },
    {
      "cell_type": "markdown",
      "source": [
        "Variância dos valores:"
      ],
      "metadata": {
        "id": "ru40RUGtykGk"
      }
    },
    {
      "cell_type": "code",
      "source": [
        "np.var(meuArray)"
      ],
      "metadata": {
        "colab": {
          "base_uri": "https://localhost:8080/"
        },
        "id": "sg7STShHymBZ",
        "outputId": "a3fce9d2-cbab-41bb-d119-10995402ccb1"
      },
      "execution_count": 75,
      "outputs": [
        {
          "output_type": "execute_result",
          "data": {
            "text/plain": [
              "6.666666666666667"
            ]
          },
          "metadata": {},
          "execution_count": 75
        }
      ]
    },
    {
      "cell_type": "markdown",
      "source": [
        "Desvio padrão dos valores:"
      ],
      "metadata": {
        "id": "H5dDR6-byouA"
      }
    },
    {
      "cell_type": "code",
      "source": [
        "np.std(meuArray)"
      ],
      "metadata": {
        "colab": {
          "base_uri": "https://localhost:8080/"
        },
        "id": "yKKFtOhayqyx",
        "outputId": "a1290d6f-0354-4227-f8e4-79c8d323ed36"
      },
      "execution_count": 76,
      "outputs": [
        {
          "output_type": "execute_result",
          "data": {
            "text/plain": [
              "2.581988897471611"
            ]
          },
          "metadata": {},
          "execution_count": 76
        }
      ]
    },
    {
      "cell_type": "markdown",
      "source": [
        "Desafio de classe: \n",
        "Criar array unidimensional usando arange com 20 elementos:"
      ],
      "metadata": {
        "id": "N7evZZuXzojq"
      }
    },
    {
      "cell_type": "code",
      "source": [
        "meu_array = np.arange(20)\n",
        "meu_array"
      ],
      "metadata": {
        "colab": {
          "base_uri": "https://localhost:8080/"
        },
        "id": "QlxiZO9qy7KT",
        "outputId": "e0a08026-71f6-4862-f00e-15fc14cf7211"
      },
      "execution_count": 79,
      "outputs": [
        {
          "output_type": "execute_result",
          "data": {
            "text/plain": [
              "array([ 0,  1,  2,  3,  4,  5,  6,  7,  8,  9, 10, 11, 12, 13, 14, 15, 16,\n",
              "       17, 18, 19])"
            ]
          },
          "metadata": {},
          "execution_count": 79
        }
      ]
    },
    {
      "cell_type": "markdown",
      "source": [
        "Desafio de classe: \n",
        "Obter a média, soma, variância e desvio padrão:"
      ],
      "metadata": {
        "id": "gqQbqrUbzhJh"
      }
    },
    {
      "cell_type": "code",
      "source": [
        "np.mean(meu_array)\n",
        "np.std(meu_array)\n",
        "np.var(meu_array)\n",
        "np.sum(meu_array)\n",
        "np.prod(meu_array)"
      ],
      "metadata": {
        "colab": {
          "base_uri": "https://localhost:8080/"
        },
        "id": "wkKDpV1-zvu0",
        "outputId": "cf3367bd-8b04-4b5e-8382-fac6853ac727"
      },
      "execution_count": 87,
      "outputs": [
        {
          "output_type": "execute_result",
          "data": {
            "text/plain": [
              "0"
            ]
          },
          "metadata": {},
          "execution_count": 87
        }
      ]
    },
    {
      "cell_type": "markdown",
      "source": [
        "Desafio de classe: Varrer o array para obter os pares:"
      ],
      "metadata": {
        "id": "ltWjo1Gf1ukY"
      }
    },
    {
      "cell_type": "code",
      "source": [
        "meu_array[::2]"
      ],
      "metadata": {
        "colab": {
          "base_uri": "https://localhost:8080/"
        },
        "id": "Bt0ItkNO1qcW",
        "outputId": "c62d79ce-2f94-4df8-ac4b-2e8199278fc4"
      },
      "execution_count": 84,
      "outputs": [
        {
          "output_type": "execute_result",
          "data": {
            "text/plain": [
              "array([ 0,  2,  4,  6,  8, 10, 12, 14, 16, 18])"
            ]
          },
          "metadata": {},
          "execution_count": 84
        }
      ]
    },
    {
      "cell_type": "markdown",
      "source": [
        "Desafio de classe: Varrer o array para obter os ímpares:"
      ],
      "metadata": {
        "id": "Sb2KJ-eS12ub"
      }
    },
    {
      "cell_type": "code",
      "source": [
        "meu_array[1::2]"
      ],
      "metadata": {
        "colab": {
          "base_uri": "https://localhost:8080/"
        },
        "id": "UPd_OwvW151V",
        "outputId": "d821b06e-a695-49d6-e8da-52cd1cb74b74"
      },
      "execution_count": 85,
      "outputs": [
        {
          "output_type": "execute_result",
          "data": {
            "text/plain": [
              "array([ 1,  3,  5,  7,  9, 11, 13, 15, 17, 19])"
            ]
          },
          "metadata": {},
          "execution_count": 85
        }
      ]
    },
    {
      "cell_type": "markdown",
      "source": [
        "Desafio de classe: Saber se os valores são maiores que 5:"
      ],
      "metadata": {
        "id": "_W1I5nsX2YQO"
      }
    },
    {
      "cell_type": "code",
      "source": [
        "meu_array > 5"
      ],
      "metadata": {
        "colab": {
          "base_uri": "https://localhost:8080/"
        },
        "id": "PtINM9h72Qg9",
        "outputId": "e7a7d3a7-b05c-45d9-96b1-ea4d4f3804bc"
      },
      "execution_count": 88,
      "outputs": [
        {
          "output_type": "execute_result",
          "data": {
            "text/plain": [
              "array([False, False, False, False, False, False,  True,  True,  True,\n",
              "        True,  True,  True,  True,  True,  True,  True,  True,  True,\n",
              "        True,  True])"
            ]
          },
          "metadata": {},
          "execution_count": 88
        }
      ]
    },
    {
      "cell_type": "markdown",
      "source": [
        "Desafio de classe: Obter valores maiores que 5:"
      ],
      "metadata": {
        "id": "swNMaW5k2qgY"
      }
    },
    {
      "cell_type": "code",
      "source": [
        "meu_array [meu_array > 5]"
      ],
      "metadata": {
        "colab": {
          "base_uri": "https://localhost:8080/"
        },
        "id": "bZEsgSDa2k6q",
        "outputId": "cb2a46e7-14fd-41ae-9107-216eadc859f5"
      },
      "execution_count": 89,
      "outputs": [
        {
          "output_type": "execute_result",
          "data": {
            "text/plain": [
              "array([ 6,  7,  8,  9, 10, 11, 12, 13, 14, 15, 16, 17, 18, 19])"
            ]
          },
          "metadata": {},
          "execution_count": 89
        }
      ]
    }
  ]
}