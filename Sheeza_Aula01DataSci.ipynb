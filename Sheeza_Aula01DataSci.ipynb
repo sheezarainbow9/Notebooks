{
  "nbformat": 4,
  "nbformat_minor": 0,
  "metadata": {
    "colab": {
      "name": "Sheeza_Aula01DataSci.ipynb",
      "provenance": [],
      "collapsed_sections": [],
      "authorship_tag": "ABX9TyORiVUthpLI/c1Mx0eh3e/E",
      "include_colab_link": true
    },
    "kernelspec": {
      "name": "python3",
      "display_name": "Python 3"
    },
    "language_info": {
      "name": "python"
    }
  },
  "cells": [
    {
      "cell_type": "markdown",
      "metadata": {
        "id": "view-in-github",
        "colab_type": "text"
      },
      "source": [
        "<a href=\"https://colab.research.google.com/github/sheezarainbow9/Notebooks/blob/main/Sheeza_Aula01DataSci.ipynb\" target=\"_parent\"><img src=\"https://colab.research.google.com/assets/colab-badge.svg\" alt=\"Open In Colab\"/></a>"
      ]
    },
    {
      "cell_type": "code",
      "source": [
        "import numpy as np"
      ],
      "metadata": {
        "id": "0BJL6rrghUY7"
      },
      "execution_count": null,
      "outputs": []
    },
    {
      "cell_type": "code",
      "execution_count": null,
      "metadata": {
        "id": "ZX7vfGiXhPMq",
        "colab": {
          "base_uri": "https://localhost:8080/"
        },
        "outputId": "0429e3dc-787e-4a9a-e4e9-bc04c83009bf"
      },
      "outputs": [
        {
          "output_type": "execute_result",
          "data": {
            "text/plain": [
              "[0, 1, 2, 3, 4, 5, 6, 7, 8]"
            ]
          },
          "metadata": {},
          "execution_count": 2
        }
      ],
      "source": [
        "minhaLista = [0, 1, 2, 3, 4, 5, 6, 7, 8]\n",
        "minhaLista"
      ]
    },
    {
      "cell_type": "markdown",
      "source": [
        "# Transformando a lista num Array NumPy"
      ],
      "metadata": {
        "id": "5pti31JDirg7"
      }
    },
    {
      "cell_type": "code",
      "source": [
        "meuArray = np.array(minhaLista)\n",
        "meuArray"
      ],
      "metadata": {
        "colab": {
          "base_uri": "https://localhost:8080/"
        },
        "id": "riG-fHVpiTo9",
        "outputId": "5d1d8ed9-7da3-4a97-8d05-34aef26fc8f0"
      },
      "execution_count": null,
      "outputs": [
        {
          "output_type": "execute_result",
          "data": {
            "text/plain": [
              "array([0, 1, 2, 3, 4, 5, 6, 7, 8])"
            ]
          },
          "metadata": {},
          "execution_count": 3
        }
      ]
    },
    {
      "cell_type": "code",
      "source": [
        "minhaLista = list(range(9))\n",
        "minhaLista"
      ],
      "metadata": {
        "colab": {
          "base_uri": "https://localhost:8080/"
        },
        "id": "jPG_S3AjjHzv",
        "outputId": "9890d25b-7a7b-408b-8ae3-3be2b3c13dc4"
      },
      "execution_count": null,
      "outputs": [
        {
          "output_type": "execute_result",
          "data": {
            "text/plain": [
              "[0, 1, 2, 3, 4, 5, 6, 7, 8]"
            ]
          },
          "metadata": {},
          "execution_count": 4
        }
      ]
    },
    {
      "cell_type": "code",
      "source": [
        "array1 = np.array(range(9))\n",
        "array1"
      ],
      "metadata": {
        "colab": {
          "base_uri": "https://localhost:8080/"
        },
        "id": "zgmtzHP5j5BB",
        "outputId": "87813bf9-a294-44e5-f2e2-bf1bf61871d4"
      },
      "execution_count": null,
      "outputs": [
        {
          "output_type": "execute_result",
          "data": {
            "text/plain": [
              "array([0, 1, 2, 3, 4, 5, 6, 7, 8])"
            ]
          },
          "metadata": {},
          "execution_count": 5
        }
      ]
    },
    {
      "cell_type": "markdown",
      "source": [
        "Fazendo as etapas anteriores com uma sintaxe:"
      ],
      "metadata": {
        "id": "6lNoN8-GkSaj"
      }
    },
    {
      "cell_type": "code",
      "source": [
        "array2 = np.arange(9)\n",
        "array2"
      ],
      "metadata": {
        "colab": {
          "base_uri": "https://localhost:8080/"
        },
        "id": "dnbVoW6IkIDV",
        "outputId": "27f06241-234c-480a-b4d3-62aec5516941"
      },
      "execution_count": null,
      "outputs": [
        {
          "output_type": "execute_result",
          "data": {
            "text/plain": [
              "array([0, 1, 2, 3, 4, 5, 6, 7, 8])"
            ]
          },
          "metadata": {},
          "execution_count": 6
        }
      ]
    },
    {
      "cell_type": "markdown",
      "source": [
        "Start, stop, step:"
      ],
      "metadata": {
        "id": "06S99i8VkcUm"
      }
    },
    {
      "cell_type": "code",
      "source": [
        "array3 = np.arange(0, 10, 0.5)\n",
        "array3"
      ],
      "metadata": {
        "colab": {
          "base_uri": "https://localhost:8080/"
        },
        "id": "TiqKklQXkeqY",
        "outputId": "0cd639a1-fbde-47c8-f81a-40bd2aa8b2e0"
      },
      "execution_count": null,
      "outputs": [
        {
          "output_type": "execute_result",
          "data": {
            "text/plain": [
              "array([0. , 0.5, 1. , 1.5, 2. , 2.5, 3. , 3.5, 4. , 4.5, 5. , 5.5, 6. ,\n",
              "       6.5, 7. , 7.5, 8. , 8.5, 9. , 9.5])"
            ]
          },
          "metadata": {},
          "execution_count": 7
        }
      ]
    },
    {
      "cell_type": "markdown",
      "source": [
        "Arredondando os valores obtidos:"
      ],
      "metadata": {
        "id": "1D62h2rFkq9E"
      }
    },
    {
      "cell_type": "code",
      "source": [
        "novoArray = np.around(array3)\n",
        "novoArray"
      ],
      "metadata": {
        "colab": {
          "base_uri": "https://localhost:8080/"
        },
        "id": "hwxg8ij6kukX",
        "outputId": "2d13e2c4-17ed-4c02-f25d-039669744774"
      },
      "execution_count": null,
      "outputs": [
        {
          "output_type": "execute_result",
          "data": {
            "text/plain": [
              "array([ 0.,  0.,  1.,  2.,  2.,  2.,  3.,  4.,  4.,  4.,  5.,  6.,  6.,\n",
              "        6.,  7.,  8.,  8.,  8.,  9., 10.])"
            ]
          },
          "metadata": {},
          "execution_count": 8
        }
      ]
    },
    {
      "cell_type": "markdown",
      "source": [
        "Podemos 'forçar' o tipo dos elementos:"
      ],
      "metadata": {
        "id": "s9NqGSIjk5g-"
      }
    },
    {
      "cell_type": "code",
      "source": [
        "array3 = np.arange(0, 10, 0.5, dtype=int)\n",
        "array3"
      ],
      "metadata": {
        "id": "iX11DmaCk9qD",
        "colab": {
          "base_uri": "https://localhost:8080/"
        },
        "outputId": "959e431f-4239-4211-cf9e-8da2bb96be35"
      },
      "execution_count": null,
      "outputs": [
        {
          "output_type": "execute_result",
          "data": {
            "text/plain": [
              "array([0, 0, 0, 0, 0, 0, 0, 0, 0, 0, 0, 0, 0, 0, 0, 0, 0, 0, 0, 0])"
            ]
          },
          "metadata": {},
          "execution_count": 9
        }
      ]
    },
    {
      "cell_type": "markdown",
      "source": [
        "Podemos pré determinar o tipo dos elementos:"
      ],
      "metadata": {
        "id": "HvBABqHtl-e9"
      }
    },
    {
      "cell_type": "code",
      "source": [
        "array4 = np.arange(12)\n",
        "array4"
      ],
      "metadata": {
        "colab": {
          "base_uri": "https://localhost:8080/"
        },
        "id": "1xofluL8mDeT",
        "outputId": "637d7c08-53d1-4773-82d1-629ab86236b4"
      },
      "execution_count": null,
      "outputs": [
        {
          "output_type": "execute_result",
          "data": {
            "text/plain": [
              "array([ 0,  1,  2,  3,  4,  5,  6,  7,  8,  9, 10, 11])"
            ]
          },
          "metadata": {},
          "execution_count": 10
        }
      ]
    },
    {
      "cell_type": "markdown",
      "source": [
        "Deixar meu array previamente preparado para trabalhar\n",
        "futuramente com tipos float:"
      ],
      "metadata": {
        "id": "Xs1Lbzy6xx_F"
      }
    },
    {
      "cell_type": "code",
      "source": [
        "array4 = np.arange(12.)\n",
        "array4"
      ],
      "metadata": {
        "id": "dHP2ynTjvJQC",
        "colab": {
          "base_uri": "https://localhost:8080/"
        },
        "outputId": "ff751c7d-0364-4b98-e69f-5447e6e4664e"
      },
      "execution_count": null,
      "outputs": [
        {
          "output_type": "execute_result",
          "data": {
            "text/plain": [
              "array([ 0.,  1.,  2.,  3.,  4.,  5.,  6.,  7.,  8.,  9., 10., 11.])"
            ]
          },
          "metadata": {},
          "execution_count": 11
        }
      ]
    },
    {
      "cell_type": "markdown",
      "source": [
        "Tipo de objeto:"
      ],
      "metadata": {
        "id": "R7CzfzBsmxaf"
      }
    },
    {
      "cell_type": "code",
      "source": [
        "type(array4)"
      ],
      "metadata": {
        "colab": {
          "base_uri": "https://localhost:8080/"
        },
        "id": "NYUhPxBtm0ZG",
        "outputId": "5ab9f6f1-540c-472e-e3e7-ef59b1e75a00"
      },
      "execution_count": null,
      "outputs": [
        {
          "output_type": "execute_result",
          "data": {
            "text/plain": [
              "numpy.ndarray"
            ]
          },
          "metadata": {},
          "execution_count": 12
        }
      ]
    },
    {
      "cell_type": "markdown",
      "source": [
        "Tipo dos elementos do array:"
      ],
      "metadata": {
        "id": "_xzYG8usm5Lz"
      }
    },
    {
      "cell_type": "code",
      "source": [
        "array4.dtype"
      ],
      "metadata": {
        "colab": {
          "base_uri": "https://localhost:8080/"
        },
        "id": "6d-sr11ym7yI",
        "outputId": "a55599d8-2ec4-4cb2-fe2c-744c386a8296"
      },
      "execution_count": null,
      "outputs": [
        {
          "output_type": "execute_result",
          "data": {
            "text/plain": [
              "dtype('float64')"
            ]
          },
          "metadata": {},
          "execution_count": 13
        }
      ]
    },
    {
      "cell_type": "markdown",
      "source": [
        "Criar arrays digitando seus valores:"
      ],
      "metadata": {
        "id": "NyODz3a1nMS8"
      }
    },
    {
      "cell_type": "code",
      "source": [
        "vetor1 = np.array([0, 1, 2, 3, 4])\n",
        "print(vetor1)"
      ],
      "metadata": {
        "colab": {
          "base_uri": "https://localhost:8080/"
        },
        "id": "FfyXPRhCnSCo",
        "outputId": "30f55940-5503-4dd4-88eb-46d0318ad577"
      },
      "execution_count": null,
      "outputs": [
        {
          "output_type": "stream",
          "name": "stdout",
          "text": [
            "[0 1 2 3 4]\n"
          ]
        }
      ]
    },
    {
      "cell_type": "markdown",
      "source": [
        "Selecionando elemento específico:"
      ],
      "metadata": {
        "id": "_32z8Avinbk7"
      }
    },
    {
      "cell_type": "code",
      "source": [
        "vetor1[3]"
      ],
      "metadata": {
        "colab": {
          "base_uri": "https://localhost:8080/"
        },
        "id": "2xrF6tOlnd2c",
        "outputId": "7392b62f-2c4e-46c4-e572-034fa2e4df54"
      },
      "execution_count": null,
      "outputs": [
        {
          "output_type": "execute_result",
          "data": {
            "text/plain": [
              "3"
            ]
          },
          "metadata": {},
          "execution_count": 15
        }
      ]
    },
    {
      "cell_type": "markdown",
      "source": [
        "Selecionando intervalo específico:"
      ],
      "metadata": {
        "id": "jb2wJRTOngqF"
      }
    },
    {
      "cell_type": "code",
      "source": [
        "vetor1[0:2] # ou : print(vetor1[0:2])"
      ],
      "metadata": {
        "colab": {
          "base_uri": "https://localhost:8080/"
        },
        "id": "24duywDVnlYk",
        "outputId": "34d4a9dc-8b34-43e3-a1e9-5370a0534d46"
      },
      "execution_count": null,
      "outputs": [
        {
          "output_type": "execute_result",
          "data": {
            "text/plain": [
              "array([0, 1])"
            ]
          },
          "metadata": {},
          "execution_count": 16
        }
      ]
    },
    {
      "cell_type": "markdown",
      "source": [
        "Criando um array de strings:"
      ],
      "metadata": {
        "id": "fmTfaHI1yPh1"
      }
    },
    {
      "cell_type": "code",
      "source": [
        "s = np.array(['Python', 'Profissional', 'Java', \"Água\"])\n",
        "s"
      ],
      "metadata": {
        "colab": {
          "base_uri": "https://localhost:8080/"
        },
        "id": "INu_3w3lyQiz",
        "outputId": "b171a5b5-1dee-4623-9ada-6a924578dd03"
      },
      "execution_count": null,
      "outputs": [
        {
          "output_type": "execute_result",
          "data": {
            "text/plain": [
              "array(['Python', 'Profissional', 'Java', 'Água'], dtype='<U12')"
            ]
          },
          "metadata": {},
          "execution_count": 53
        }
      ]
    },
    {
      "cell_type": "code",
      "source": [
        "s = np.array(['Python', 1464321315, 'Profissional', 'Java', \"Água\"])\n",
        "s"
      ],
      "metadata": {
        "colab": {
          "base_uri": "https://localhost:8080/"
        },
        "id": "V-3YzuOtyX9O",
        "outputId": "557f1d93-4807-44f3-b693-38728ef6e720"
      },
      "execution_count": null,
      "outputs": [
        {
          "output_type": "execute_result",
          "data": {
            "text/plain": [
              "array(['Python', '1464321315', 'Profissional', 'Java', 'Água'],\n",
              "      dtype='<U21')"
            ]
          },
          "metadata": {},
          "execution_count": 54
        }
      ]
    },
    {
      "cell_type": "markdown",
      "source": [
        "Alterando um elemento do array:"
      ],
      "metadata": {
        "id": "wBmwHWj1oLN1"
      }
    },
    {
      "cell_type": "code",
      "source": [
        "vetor1[2] = 10\n",
        "vetor1"
      ],
      "metadata": {
        "colab": {
          "base_uri": "https://localhost:8080/"
        },
        "id": "KiUHwerVoOQV",
        "outputId": "4f5f8738-bde9-4bb0-d349-0e7751cf5f54"
      },
      "execution_count": null,
      "outputs": [
        {
          "output_type": "execute_result",
          "data": {
            "text/plain": [
              "array([ 0,  1, 10,  3,  4])"
            ]
          },
          "metadata": {},
          "execution_count": 17
        }
      ]
    },
    {
      "cell_type": "markdown",
      "source": [
        "Tentar incluir elementos:"
      ],
      "metadata": {
        "id": "M4Yw0yAroXHD"
      }
    },
    {
      "cell_type": "code",
      "source": [
        "# vetor1[0] = 'Novo elemento'\n",
        "vetor1[0] = 45.6\n",
        "vetor1"
      ],
      "metadata": {
        "colab": {
          "base_uri": "https://localhost:8080/"
        },
        "id": "XEETD1G6oZBW",
        "outputId": "8b659894-d46f-4457-8082-4f1b8c3896ff"
      },
      "execution_count": null,
      "outputs": [
        {
          "output_type": "execute_result",
          "data": {
            "text/plain": [
              "array([45,  1, 10,  3,  4])"
            ]
          },
          "metadata": {},
          "execution_count": 18
        }
      ]
    },
    {
      "cell_type": "markdown",
      "source": [
        "Criando 1a matriz:"
      ],
      "metadata": {
        "id": "_kBv72L-pIWA"
      }
    },
    {
      "cell_type": "code",
      "source": [
        "matriz1 = np.array([[1, 2, 3], [4, 5, 6]])\n",
        "matriz1"
      ],
      "metadata": {
        "colab": {
          "base_uri": "https://localhost:8080/"
        },
        "id": "WmS9urXppLPe",
        "outputId": "b4957454-5e8b-4ed8-ced0-5512e041e2e4"
      },
      "execution_count": null,
      "outputs": [
        {
          "output_type": "execute_result",
          "data": {
            "text/plain": [
              "array([[1, 2, 3],\n",
              "       [4, 5, 6]])"
            ]
          },
          "metadata": {},
          "execution_count": 19
        }
      ]
    },
    {
      "cell_type": "markdown",
      "source": [
        "Criar matriz a partir de uma lista:"
      ],
      "metadata": {
        "id": "fu5Tmpvyp4Jt"
      }
    },
    {
      "cell_type": "code",
      "source": [
        "minhaLista = [[13, 81, 22], [0, 34, 59], [21, 48, 94]]"
      ],
      "metadata": {
        "id": "Q2heVFXzp6tL"
      },
      "execution_count": null,
      "outputs": []
    },
    {
      "cell_type": "markdown",
      "source": [
        "Agora usaremos np.matrix:"
      ],
      "metadata": {
        "id": "AwEC_rY6qJe5"
      }
    },
    {
      "cell_type": "code",
      "source": [
        "matriz2 = np.matrix(minhaLista)\n",
        "matriz2"
      ],
      "metadata": {
        "colab": {
          "base_uri": "https://localhost:8080/"
        },
        "id": "g86SvvnjqMcG",
        "outputId": "37baecdc-52ae-4a59-9c02-4e223fbc8ae2"
      },
      "execution_count": null,
      "outputs": [
        {
          "output_type": "execute_result",
          "data": {
            "text/plain": [
              "matrix([[13, 81, 22],\n",
              "        [ 0, 34, 59],\n",
              "        [21, 48, 94]])"
            ]
          },
          "metadata": {},
          "execution_count": 21
        }
      ]
    },
    {
      "cell_type": "markdown",
      "source": [
        "np.zeros: pode formar vetores e matrizes:"
      ],
      "metadata": {
        "id": "JtVr3WF8qv9p"
      }
    },
    {
      "cell_type": "code",
      "source": [
        "x = np.zeros(3)\n",
        "x"
      ],
      "metadata": {
        "colab": {
          "base_uri": "https://localhost:8080/"
        },
        "id": "7jhGj6HDq-DS",
        "outputId": "0b03252e-4218-4e5d-cfd9-c84c49369b98"
      },
      "execution_count": null,
      "outputs": [
        {
          "output_type": "execute_result",
          "data": {
            "text/plain": [
              "array([0., 0., 0.])"
            ]
          },
          "metadata": {},
          "execution_count": 22
        }
      ]
    },
    {
      "cell_type": "code",
      "source": [
        "x = np.zeros((3, 2))\n",
        "x"
      ],
      "metadata": {
        "colab": {
          "base_uri": "https://localhost:8080/"
        },
        "id": "EiKtt4YdrGlD",
        "outputId": "fa378896-b5e2-488d-b778-8d6ca935f306"
      },
      "execution_count": null,
      "outputs": [
        {
          "output_type": "execute_result",
          "data": {
            "text/plain": [
              "array([[0., 0.],\n",
              "       [0., 0.],\n",
              "       [0., 0.]])"
            ]
          },
          "metadata": {},
          "execution_count": 23
        }
      ]
    },
    {
      "cell_type": "markdown",
      "source": [
        "Sem armazenar em variáveis:"
      ],
      "metadata": {
        "id": "HfAVMbAWreht"
      }
    },
    {
      "cell_type": "code",
      "source": [
        "print(np.zeros(3))"
      ],
      "metadata": {
        "colab": {
          "base_uri": "https://localhost:8080/"
        },
        "id": "LvJl9jiLrhfY",
        "outputId": "dc27ad09-92bc-42e3-d3ee-6094eff3f715"
      },
      "execution_count": null,
      "outputs": [
        {
          "output_type": "stream",
          "name": "stdout",
          "text": [
            "[0. 0. 0.]\n"
          ]
        }
      ]
    },
    {
      "cell_type": "markdown",
      "source": [
        "np.ones:"
      ],
      "metadata": {
        "id": "_Xx6B4nArukm"
      }
    },
    {
      "cell_type": "code",
      "source": [
        "x = np.ones((5, 3))\n",
        "x"
      ],
      "metadata": {
        "colab": {
          "base_uri": "https://localhost:8080/"
        },
        "id": "kyPQiAn3rw71",
        "outputId": "807d46ea-d862-470f-c9ec-56b9a983eb73"
      },
      "execution_count": null,
      "outputs": [
        {
          "output_type": "execute_result",
          "data": {
            "text/plain": [
              "array([[1., 1., 1.],\n",
              "       [1., 1., 1.],\n",
              "       [1., 1., 1.],\n",
              "       [1., 1., 1.],\n",
              "       [1., 1., 1.]])"
            ]
          },
          "metadata": {},
          "execution_count": 25
        }
      ]
    },
    {
      "cell_type": "markdown",
      "source": [
        "Para apenas um vetor:"
      ],
      "metadata": {
        "id": "biO4N3qDr2RS"
      }
    },
    {
      "cell_type": "code",
      "source": [
        "y = np.ones(5)\n",
        "y"
      ],
      "metadata": {
        "colab": {
          "base_uri": "https://localhost:8080/"
        },
        "id": "tmSs5SWer4Yp",
        "outputId": "be97e315-a253-4a5d-85a6-8dc80b715046"
      },
      "execution_count": null,
      "outputs": [
        {
          "output_type": "execute_result",
          "data": {
            "text/plain": [
              "array([1., 1., 1., 1., 1.])"
            ]
          },
          "metadata": {},
          "execution_count": 26
        }
      ]
    },
    {
      "cell_type": "markdown",
      "source": [
        "Desafio: como obter uma matriz 4x4 apenas com números 8?"
      ],
      "metadata": {
        "id": "lKh1t7IIr8oG"
      }
    },
    {
      "cell_type": "code",
      "source": [
        "m = np.ones((4,4)) * 8\n",
        "m"
      ],
      "metadata": {
        "id": "fBhgX58RsB9S",
        "colab": {
          "base_uri": "https://localhost:8080/"
        },
        "outputId": "974ac0ff-e08e-4a08-d0a7-c7ba95ccac12"
      },
      "execution_count": null,
      "outputs": [
        {
          "output_type": "execute_result",
          "data": {
            "text/plain": [
              "array([[8., 8., 8., 8.],\n",
              "       [8., 8., 8., 8.],\n",
              "       [8., 8., 8., 8.],\n",
              "       [8., 8., 8., 8.]])"
            ]
          },
          "metadata": {},
          "execution_count": 27
        }
      ]
    },
    {
      "cell_type": "markdown",
      "source": [
        "np.diag para formar matrizes: Valores passados como parâmetro formam uma diagonal:"
      ],
      "metadata": {
        "id": "aya8bVS1tvyX"
      }
    },
    {
      "cell_type": "code",
      "source": [
        "z = np.diag(np.array([1, 2, 3, 4, 5, 6]))\n",
        "z"
      ],
      "metadata": {
        "colab": {
          "base_uri": "https://localhost:8080/"
        },
        "id": "inZslyPxt3vP",
        "outputId": "35052d39-bad4-48a3-f4b3-7fff1081d6b1"
      },
      "execution_count": null,
      "outputs": [
        {
          "output_type": "execute_result",
          "data": {
            "text/plain": [
              "array([[1, 0, 0, 0, 0, 0],\n",
              "       [0, 2, 0, 0, 0, 0],\n",
              "       [0, 0, 3, 0, 0, 0],\n",
              "       [0, 0, 0, 4, 0, 0],\n",
              "       [0, 0, 0, 0, 5, 0],\n",
              "       [0, 0, 0, 0, 0, 6]])"
            ]
          },
          "metadata": {},
          "execution_count": 28
        }
      ]
    },
    {
      "cell_type": "markdown",
      "source": [
        "np.eye para formar matrizes:"
      ],
      "metadata": {
        "id": "JNR22dIIuBlC"
      }
    },
    {
      "cell_type": "code",
      "source": [
        "y = np.eye(5)\n",
        "5"
      ],
      "metadata": {
        "colab": {
          "base_uri": "https://localhost:8080/"
        },
        "id": "sVe1vIeRuDpo",
        "outputId": "0d1b2547-2289-4025-f164-bdbfa3c180d3"
      },
      "execution_count": null,
      "outputs": [
        {
          "output_type": "execute_result",
          "data": {
            "text/plain": [
              "5"
            ]
          },
          "metadata": {},
          "execution_count": 29
        }
      ]
    },
    {
      "cell_type": "markdown",
      "source": [
        "agora, determinando o tipo  int:"
      ],
      "metadata": {
        "id": "gasl_h-4uNXN"
      }
    },
    {
      "cell_type": "code",
      "source": [
        "y = np.eye(5, dtype = int)\n",
        "y"
      ],
      "metadata": {
        "colab": {
          "base_uri": "https://localhost:8080/"
        },
        "id": "HM-cM1TAuPcY",
        "outputId": "062d7d81-dc89-428f-f628-88968563c324"
      },
      "execution_count": null,
      "outputs": [
        {
          "output_type": "execute_result",
          "data": {
            "text/plain": [
              "array([[1, 0, 0, 0, 0],\n",
              "       [0, 1, 0, 0, 0],\n",
              "       [0, 0, 1, 0, 0],\n",
              "       [0, 0, 0, 1, 0],\n",
              "       [0, 0, 0, 0, 1]])"
            ]
          },
          "metadata": {},
          "execution_count": 30
        }
      ]
    },
    {
      "cell_type": "markdown",
      "source": [
        "Verificando o shape (forma) de 2 maneiras:"
      ],
      "metadata": {
        "id": "pzfAJKa3vaUr"
      }
    },
    {
      "cell_type": "code",
      "source": [
        "np.shape(matriz2) # ou matriz2.shape"
      ],
      "metadata": {
        "colab": {
          "base_uri": "https://localhost:8080/"
        },
        "id": "nfzKFvalvdbZ",
        "outputId": "7b31f685-ca11-456c-c131-e90417ffebd2"
      },
      "execution_count": null,
      "outputs": [
        {
          "output_type": "execute_result",
          "data": {
            "text/plain": [
              "(3, 3)"
            ]
          },
          "metadata": {},
          "execution_count": 31
        }
      ]
    },
    {
      "cell_type": "markdown",
      "source": [
        "Verificando o tipo da matriz:"
      ],
      "metadata": {
        "id": "idzJVQhNv4mB"
      }
    },
    {
      "cell_type": "code",
      "source": [
        "type(matriz2)"
      ],
      "metadata": {
        "colab": {
          "base_uri": "https://localhost:8080/"
        },
        "id": "pn1FOUEiv7HP",
        "outputId": "9ca70ce6-480f-406d-bd06-b2672afd4c72"
      },
      "execution_count": null,
      "outputs": [
        {
          "output_type": "execute_result",
          "data": {
            "text/plain": [
              "numpy.matrix"
            ]
          },
          "metadata": {},
          "execution_count": 32
        }
      ]
    },
    {
      "cell_type": "markdown",
      "source": [
        "Verificando o tipo de dados da matriz:"
      ],
      "metadata": {
        "id": "AYp5uSvNv-HS"
      }
    },
    {
      "cell_type": "code",
      "source": [
        "matriz2.dtype"
      ],
      "metadata": {
        "colab": {
          "base_uri": "https://localhost:8080/"
        },
        "id": "0uKPLbRwwASR",
        "outputId": "94a464c2-d039-4041-fc70-631bdda3a2cb"
      },
      "execution_count": null,
      "outputs": [
        {
          "output_type": "execute_result",
          "data": {
            "text/plain": [
              "dtype('int64')"
            ]
          },
          "metadata": {},
          "execution_count": 33
        }
      ]
    },
    {
      "cell_type": "markdown",
      "source": [
        "Selecionando elementos de uma matriz:"
      ],
      "metadata": {
        "id": "5adRGGfRwL-w"
      }
    },
    {
      "cell_type": "code",
      "source": [
        "matriz2[2, 1]"
      ],
      "metadata": {
        "colab": {
          "base_uri": "https://localhost:8080/"
        },
        "id": "4WgjrqebwOlE",
        "outputId": "020e1dab-0b09-45ed-fd99-97132053541d"
      },
      "execution_count": null,
      "outputs": [
        {
          "output_type": "execute_result",
          "data": {
            "text/plain": [
              "48"
            ]
          },
          "metadata": {},
          "execution_count": 34
        }
      ]
    },
    {
      "cell_type": "markdown",
      "source": [
        "Selecionando a 1a linha de uma matriz:"
      ],
      "metadata": {
        "id": "MV9iBIt1wT_r"
      }
    },
    {
      "cell_type": "code",
      "source": [
        "print(matriz2[0,:])"
      ],
      "metadata": {
        "colab": {
          "base_uri": "https://localhost:8080/"
        },
        "id": "AWS8cJC9wW0V",
        "outputId": "7d9e99d7-4968-491e-df1f-dddff3f00e35"
      },
      "execution_count": null,
      "outputs": [
        {
          "output_type": "stream",
          "name": "stdout",
          "text": [
            "[[13 81 22]]\n"
          ]
        }
      ]
    },
    {
      "cell_type": "markdown",
      "source": [
        "Selecionando a 3a coluna de uma matriz:"
      ],
      "metadata": {
        "id": "A5ElTbU0wbPE"
      }
    },
    {
      "cell_type": "code",
      "source": [
        "print(matriz2[:,2])"
      ],
      "metadata": {
        "colab": {
          "base_uri": "https://localhost:8080/"
        },
        "id": "L9zQ2leHweNp",
        "outputId": "28b21b4a-9012-4053-c97d-026a97dfc1b6"
      },
      "execution_count": null,
      "outputs": [
        {
          "output_type": "stream",
          "name": "stdout",
          "text": [
            "[[22]\n",
            " [59]\n",
            " [94]]\n"
          ]
        }
      ]
    },
    {
      "cell_type": "markdown",
      "source": [
        "Alterando um elemento da matriz:"
      ],
      "metadata": {
        "id": "Imf9K_mawlJl"
      }
    },
    {
      "cell_type": "code",
      "source": [
        "matriz2[1, 0] = 100\n",
        "matriz2"
      ],
      "metadata": {
        "colab": {
          "base_uri": "https://localhost:8080/"
        },
        "id": "dbWNCNBHwoFb",
        "outputId": "fe18e3d7-00f7-442a-afbd-d8eb132120cb"
      },
      "execution_count": null,
      "outputs": [
        {
          "output_type": "execute_result",
          "data": {
            "text/plain": [
              "matrix([[ 13,  81,  22],\n",
              "        [100,  34,  59],\n",
              "        [ 21,  48,  94]])"
            ]
          },
          "metadata": {},
          "execution_count": 37
        }
      ]
    },
    {
      "cell_type": "markdown",
      "source": [
        "Operações básicas: Soma dos valores do array:"
      ],
      "metadata": {
        "id": "7Okqi9I0xVAd"
      }
    },
    {
      "cell_type": "code",
      "source": [
        "np.sum(meuArray)"
      ],
      "metadata": {
        "colab": {
          "base_uri": "https://localhost:8080/"
        },
        "id": "ncVGHSehxZrs",
        "outputId": "0b437db5-99d2-4bc3-b952-72ead32d797b"
      },
      "execution_count": null,
      "outputs": [
        {
          "output_type": "execute_result",
          "data": {
            "text/plain": [
              "36"
            ]
          },
          "metadata": {},
          "execution_count": 38
        }
      ]
    },
    {
      "cell_type": "markdown",
      "source": [
        "Obtendo o produto:"
      ],
      "metadata": {
        "id": "VNYCHT8cxeZo"
      }
    },
    {
      "cell_type": "code",
      "source": [
        "np.prod(meuArray)"
      ],
      "metadata": {
        "colab": {
          "base_uri": "https://localhost:8080/"
        },
        "id": "GHvm5XmNxhmb",
        "outputId": "4fb3b61d-e170-4b8b-f939-592b35428a3a"
      },
      "execution_count": null,
      "outputs": [
        {
          "output_type": "execute_result",
          "data": {
            "text/plain": [
              "0"
            ]
          },
          "metadata": {},
          "execution_count": 39
        }
      ]
    },
    {
      "cell_type": "markdown",
      "source": [
        "Soma acumulada:"
      ],
      "metadata": {
        "id": "xha7YK4Yxkm_"
      }
    },
    {
      "cell_type": "code",
      "source": [
        "np.cumsum(meuArray)"
      ],
      "metadata": {
        "colab": {
          "base_uri": "https://localhost:8080/"
        },
        "id": "Z6We6wTPxmpv",
        "outputId": "78729279-5161-44dc-be2b-778f537f995f"
      },
      "execution_count": null,
      "outputs": [
        {
          "output_type": "execute_result",
          "data": {
            "text/plain": [
              "array([ 0,  1,  3,  6, 10, 15, 21, 28, 36])"
            ]
          },
          "metadata": {},
          "execution_count": 40
        }
      ]
    },
    {
      "cell_type": "markdown",
      "source": [
        "Obtendo o valor mínimo do array:"
      ],
      "metadata": {
        "id": "7mevHpvex3Lp"
      }
    },
    {
      "cell_type": "code",
      "source": [
        "meuArray.min()"
      ],
      "metadata": {
        "colab": {
          "base_uri": "https://localhost:8080/"
        },
        "id": "wYsXNPktx5pN",
        "outputId": "4c819302-b7f6-465e-9424-4a9dfe081bb1"
      },
      "execution_count": null,
      "outputs": [
        {
          "output_type": "execute_result",
          "data": {
            "text/plain": [
              "0"
            ]
          },
          "metadata": {},
          "execution_count": 41
        }
      ]
    },
    {
      "cell_type": "markdown",
      "source": [
        "Obtendo o valor máximo do array:"
      ],
      "metadata": {
        "id": "ZyZqmsxlx-6o"
      }
    },
    {
      "cell_type": "code",
      "source": [
        "meuArray.max()"
      ],
      "metadata": {
        "colab": {
          "base_uri": "https://localhost:8080/"
        },
        "id": "mKq2Q9d6yCyR",
        "outputId": "01bff6a6-7dd3-40ac-dfae-272aefdac3cb"
      },
      "execution_count": null,
      "outputs": [
        {
          "output_type": "execute_result",
          "data": {
            "text/plain": [
              "8"
            ]
          },
          "metadata": {},
          "execution_count": 42
        }
      ]
    },
    {
      "cell_type": "markdown",
      "source": [
        "Média dos valores do array:"
      ],
      "metadata": {
        "id": "1M4zGsVGyYJx"
      }
    },
    {
      "cell_type": "code",
      "source": [
        "np.mean(meuArray)"
      ],
      "metadata": {
        "colab": {
          "base_uri": "https://localhost:8080/"
        },
        "id": "9PnJBAdqyaoW",
        "outputId": "3b565cdc-9f0c-4873-8ed5-f8c22da6e235"
      },
      "execution_count": null,
      "outputs": [
        {
          "output_type": "execute_result",
          "data": {
            "text/plain": [
              "4.0"
            ]
          },
          "metadata": {},
          "execution_count": 43
        }
      ]
    },
    {
      "cell_type": "markdown",
      "source": [
        "Mediana:"
      ],
      "metadata": {
        "id": "PQwm24UDydzP"
      }
    },
    {
      "cell_type": "code",
      "source": [
        "np.median(meuArray)"
      ],
      "metadata": {
        "colab": {
          "base_uri": "https://localhost:8080/"
        },
        "id": "cYmLTj9RygJp",
        "outputId": "9d3c3653-6c9a-45a1-83ba-6107c144eae6"
      },
      "execution_count": null,
      "outputs": [
        {
          "output_type": "execute_result",
          "data": {
            "text/plain": [
              "4.0"
            ]
          },
          "metadata": {},
          "execution_count": 44
        }
      ]
    },
    {
      "cell_type": "markdown",
      "source": [
        "Variância dos valores:"
      ],
      "metadata": {
        "id": "ru40RUGtykGk"
      }
    },
    {
      "cell_type": "code",
      "source": [
        "np.var(meuArray)"
      ],
      "metadata": {
        "colab": {
          "base_uri": "https://localhost:8080/"
        },
        "id": "sg7STShHymBZ",
        "outputId": "642a40b0-394e-4d90-d9e1-2c418d5647e2"
      },
      "execution_count": null,
      "outputs": [
        {
          "output_type": "execute_result",
          "data": {
            "text/plain": [
              "6.666666666666667"
            ]
          },
          "metadata": {},
          "execution_count": 45
        }
      ]
    },
    {
      "cell_type": "markdown",
      "source": [
        "Desvio padrão dos valores:"
      ],
      "metadata": {
        "id": "H5dDR6-byouA"
      }
    },
    {
      "cell_type": "code",
      "source": [
        "np.std(meuArray)"
      ],
      "metadata": {
        "colab": {
          "base_uri": "https://localhost:8080/"
        },
        "id": "yKKFtOhayqyx",
        "outputId": "c341f925-74a9-45d7-b879-6b32b9f0cb7d"
      },
      "execution_count": null,
      "outputs": [
        {
          "output_type": "execute_result",
          "data": {
            "text/plain": [
              "2.581988897471611"
            ]
          },
          "metadata": {},
          "execution_count": 46
        }
      ]
    },
    {
      "cell_type": "markdown",
      "source": [
        "Desafio de classe: \n",
        "Criar array unidimensional usando arange com 20 elementos:"
      ],
      "metadata": {
        "id": "N7evZZuXzojq"
      }
    },
    {
      "cell_type": "code",
      "source": [
        "meu_array = np.arange(20)\n",
        "meu_array"
      ],
      "metadata": {
        "colab": {
          "base_uri": "https://localhost:8080/"
        },
        "id": "QlxiZO9qy7KT",
        "outputId": "6b8bdcaf-34e0-4dc8-f329-3acdfefd4893"
      },
      "execution_count": null,
      "outputs": [
        {
          "output_type": "execute_result",
          "data": {
            "text/plain": [
              "array([ 0,  1,  2,  3,  4,  5,  6,  7,  8,  9, 10, 11, 12, 13, 14, 15, 16,\n",
              "       17, 18, 19])"
            ]
          },
          "metadata": {},
          "execution_count": 47
        }
      ]
    },
    {
      "cell_type": "markdown",
      "source": [
        "Desafio de classe: \n",
        "Obter a média, soma, variância e desvio padrão:"
      ],
      "metadata": {
        "id": "gqQbqrUbzhJh"
      }
    },
    {
      "cell_type": "code",
      "source": [
        "np.mean(meu_array)\n",
        "np.std(meu_array)\n",
        "np.var(meu_array)\n",
        "np.sum(meu_array)\n",
        "np.prod(meu_array)"
      ],
      "metadata": {
        "colab": {
          "base_uri": "https://localhost:8080/"
        },
        "id": "wkKDpV1-zvu0",
        "outputId": "df6802fe-1dac-4365-d223-815da7f85274"
      },
      "execution_count": null,
      "outputs": [
        {
          "output_type": "execute_result",
          "data": {
            "text/plain": [
              "0"
            ]
          },
          "metadata": {},
          "execution_count": 48
        }
      ]
    },
    {
      "cell_type": "markdown",
      "source": [
        "Desafio de classe: Varrer o array para obter os pares:"
      ],
      "metadata": {
        "id": "ltWjo1Gf1ukY"
      }
    },
    {
      "cell_type": "code",
      "source": [
        "meu_array[::2]"
      ],
      "metadata": {
        "colab": {
          "base_uri": "https://localhost:8080/"
        },
        "id": "Bt0ItkNO1qcW",
        "outputId": "73e0f2ec-410f-42a5-e52d-52d449a6a530"
      },
      "execution_count": null,
      "outputs": [
        {
          "output_type": "execute_result",
          "data": {
            "text/plain": [
              "array([ 0,  2,  4,  6,  8, 10, 12, 14, 16, 18])"
            ]
          },
          "metadata": {},
          "execution_count": 49
        }
      ]
    },
    {
      "cell_type": "markdown",
      "source": [
        "Desafio de classe: Varrer o array para obter os ímpares:"
      ],
      "metadata": {
        "id": "Sb2KJ-eS12ub"
      }
    },
    {
      "cell_type": "code",
      "source": [
        "meu_array[1::2]"
      ],
      "metadata": {
        "colab": {
          "base_uri": "https://localhost:8080/"
        },
        "id": "UPd_OwvW151V",
        "outputId": "be27ee7f-d6b3-431a-8522-f9c81228b7c7"
      },
      "execution_count": null,
      "outputs": [
        {
          "output_type": "execute_result",
          "data": {
            "text/plain": [
              "array([ 1,  3,  5,  7,  9, 11, 13, 15, 17, 19])"
            ]
          },
          "metadata": {},
          "execution_count": 50
        }
      ]
    },
    {
      "cell_type": "markdown",
      "source": [
        "Desafio de classe: Saber se os valores são maiores que 5:"
      ],
      "metadata": {
        "id": "_W1I5nsX2YQO"
      }
    },
    {
      "cell_type": "code",
      "source": [
        "meu_array > 5"
      ],
      "metadata": {
        "colab": {
          "base_uri": "https://localhost:8080/"
        },
        "id": "PtINM9h72Qg9",
        "outputId": "bc7c1ef8-93cd-4038-db52-e6cf62a20ffa"
      },
      "execution_count": null,
      "outputs": [
        {
          "output_type": "execute_result",
          "data": {
            "text/plain": [
              "array([False, False, False, False, False, False,  True,  True,  True,\n",
              "        True,  True,  True,  True,  True,  True,  True,  True,  True,\n",
              "        True,  True])"
            ]
          },
          "metadata": {},
          "execution_count": 51
        }
      ]
    },
    {
      "cell_type": "markdown",
      "source": [
        "Desafio de classe: Obter valores maiores que 5:"
      ],
      "metadata": {
        "id": "swNMaW5k2qgY"
      }
    },
    {
      "cell_type": "code",
      "source": [
        "meu_array [meu_array > 5]"
      ],
      "metadata": {
        "colab": {
          "base_uri": "https://localhost:8080/"
        },
        "id": "bZEsgSDa2k6q",
        "outputId": "04d2e766-efdc-4d5f-8a07-2ceecab72493"
      },
      "execution_count": null,
      "outputs": [
        {
          "output_type": "execute_result",
          "data": {
            "text/plain": [
              "array([ 6,  7,  8,  9, 10, 11, 12, 13, 14, 15, 16, 17, 18, 19])"
            ]
          },
          "metadata": {},
          "execution_count": 52
        }
      ]
    }
  ]
}