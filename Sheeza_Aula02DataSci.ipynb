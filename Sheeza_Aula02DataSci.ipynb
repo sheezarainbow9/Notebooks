{
  "nbformat": 4,
  "nbformat_minor": 0,
  "metadata": {
    "colab": {
      "name": "Sheeza_Aula02DataSci.ipynb",
      "provenance": [],
      "collapsed_sections": [],
      "authorship_tag": "ABX9TyPpAoAkLj3blckZRqt/uitI",
      "include_colab_link": true
    },
    "kernelspec": {
      "name": "python3",
      "display_name": "Python 3"
    },
    "language_info": {
      "name": "python"
    }
  },
  "cells": [
    {
      "cell_type": "markdown",
      "metadata": {
        "id": "view-in-github",
        "colab_type": "text"
      },
      "source": [
        "<a href=\"https://colab.research.google.com/github/sheezarainbow9/Notebooks/blob/main/Sheeza_Aula02DataSci.ipynb\" target=\"_parent\"><img src=\"https://colab.research.google.com/assets/colab-badge.svg\" alt=\"Open In Colab\"/></a>"
      ]
    },
    {
      "cell_type": "code",
      "execution_count": null,
      "metadata": {
        "id": "Octte0P8JIgf"
      },
      "outputs": [],
      "source": [
        "import pandas as pd\n",
        "import numpy as np"
      ]
    },
    {
      "cell_type": "markdown",
      "source": [
        "serie = pd.Series(data, index=index)"
      ],
      "metadata": {
        "id": "1mePXbVVO86f"
      }
    },
    {
      "cell_type": "code",
      "source": [
        "serie1 = pd.Series([10, 9, 8, 2, 5])\n",
        "serie1"
      ],
      "metadata": {
        "colab": {
          "base_uri": "https://localhost:8080/"
        },
        "id": "6RTvBlG9OSl9",
        "outputId": "34ea3586-9db3-4b04-bc8f-13ab042462c0"
      },
      "execution_count": null,
      "outputs": [
        {
          "output_type": "execute_result",
          "data": {
            "text/plain": [
              "0    10\n",
              "1     9\n",
              "2     8\n",
              "3     2\n",
              "4     5\n",
              "dtype: int64"
            ]
          },
          "metadata": {},
          "execution_count": 2
        }
      ]
    },
    {
      "cell_type": "code",
      "source": [
        "serie2 = pd.Series([4, 7, 6, 3], index=['a', 'b', 'c', 'd'])\n",
        "serie2"
      ],
      "metadata": {
        "colab": {
          "base_uri": "https://localhost:8080/"
        },
        "id": "tfss1buDPPLL",
        "outputId": "688d641f-39aa-47af-e72f-40707f956bd2"
      },
      "execution_count": null,
      "outputs": [
        {
          "output_type": "execute_result",
          "data": {
            "text/plain": [
              "a    4\n",
              "b    7\n",
              "c    6\n",
              "d    3\n",
              "dtype: int64"
            ]
          },
          "metadata": {},
          "execution_count": 4
        }
      ]
    },
    {
      "cell_type": "markdown",
      "source": [
        "O valor que corresponde ao índice[i] pode ser acessado com series[i]:"
      ],
      "metadata": {
        "id": "tbf4n5g3PgBq"
      }
    },
    {
      "cell_type": "code",
      "source": [
        "serie2['c']"
      ],
      "metadata": {
        "colab": {
          "base_uri": "https://localhost:8080/"
        },
        "id": "wIEITjixPn-Z",
        "outputId": "8ad7287a-e10e-41d5-ad04-e84392ef3d4e"
      },
      "execution_count": null,
      "outputs": [
        {
          "output_type": "execute_result",
          "data": {
            "text/plain": [
              "6"
            ]
          },
          "metadata": {},
          "execution_count": 5
        }
      ]
    },
    {
      "cell_type": "markdown",
      "source": [
        "DataFrames: São as tabelas do Pandas."
      ],
      "metadata": {
        "id": "5H9IeRxrQN3e"
      }
    },
    {
      "cell_type": "code",
      "source": [
        "serie1 = np.array([10, 9, 8, 2, 5])\n",
        "serie1"
      ],
      "metadata": {
        "colab": {
          "base_uri": "https://localhost:8080/"
        },
        "id": "Nu3b-VGYQSRc",
        "outputId": "bd36291a-04ad-42ce-a73e-77119b7b8ea5"
      },
      "execution_count": null,
      "outputs": [
        {
          "output_type": "execute_result",
          "data": {
            "text/plain": [
              "array([10,  9,  8,  2,  5])"
            ]
          },
          "metadata": {},
          "execution_count": 6
        }
      ]
    },
    {
      "cell_type": "markdown",
      "source": [
        "Criando a 1a serie:"
      ],
      "metadata": {
        "id": "yPPbUDXzRoJ6"
      }
    },
    {
      "cell_type": "code",
      "source": [
        "serie1 = pd.Series([10, 9, 8, 2, 5])\n",
        "serie1"
      ],
      "metadata": {
        "colab": {
          "base_uri": "https://localhost:8080/"
        },
        "id": "HVZb5kysRsDw",
        "outputId": "b959f9e6-8b4b-4a46-c2b4-4a56d44ba705"
      },
      "execution_count": null,
      "outputs": [
        {
          "output_type": "execute_result",
          "data": {
            "text/plain": [
              "0    10\n",
              "1     9\n",
              "2     8\n",
              "3     2\n",
              "4     5\n",
              "dtype: int64"
            ]
          },
          "metadata": {},
          "execution_count": 7
        }
      ]
    },
    {
      "cell_type": "markdown",
      "source": [
        "Visualizando os valores da serie criada:"
      ],
      "metadata": {
        "id": "dhBysV3jR1Ia"
      }
    },
    {
      "cell_type": "code",
      "source": [
        "serie1.values"
      ],
      "metadata": {
        "colab": {
          "base_uri": "https://localhost:8080/"
        },
        "id": "fI1vA4A6R4QD",
        "outputId": "bbb5976d-6ea7-4667-e768-1864a9ea9974"
      },
      "execution_count": null,
      "outputs": [
        {
          "output_type": "execute_result",
          "data": {
            "text/plain": [
              "array([10,  9,  8,  2,  5])"
            ]
          },
          "metadata": {},
          "execution_count": 8
        }
      ]
    },
    {
      "cell_type": "markdown",
      "source": [
        "Solicitando informações sobre o index:"
      ],
      "metadata": {
        "id": "f_FtPEE-R7RG"
      }
    },
    {
      "cell_type": "code",
      "source": [
        "serie1.index"
      ],
      "metadata": {
        "colab": {
          "base_uri": "https://localhost:8080/"
        },
        "id": "CHzLXaTdR-QG",
        "outputId": "65518bab-8d9f-49c5-e395-fec50f128164"
      },
      "execution_count": null,
      "outputs": [
        {
          "output_type": "execute_result",
          "data": {
            "text/plain": [
              "RangeIndex(start=0, stop=5, step=1)"
            ]
          },
          "metadata": {},
          "execution_count": 9
        }
      ]
    },
    {
      "cell_type": "markdown",
      "source": [
        "Criando series com random:"
      ],
      "metadata": {
        "id": "Cdp7V8E1SL5N"
      }
    },
    {
      "cell_type": "code",
      "source": [
        "serie2 = pd.Series(np.random.rand(10), index=np.arange(1, 11))\n",
        "serie2"
      ],
      "metadata": {
        "colab": {
          "base_uri": "https://localhost:8080/"
        },
        "id": "LT44Fpx_SOBt",
        "outputId": "955ab517-048a-46d2-f8f0-5c5572430529"
      },
      "execution_count": null,
      "outputs": [
        {
          "output_type": "execute_result",
          "data": {
            "text/plain": [
              "1     0.517652\n",
              "2     0.253936\n",
              "3     0.573159\n",
              "4     0.697571\n",
              "5     0.363241\n",
              "6     0.059385\n",
              "7     0.234685\n",
              "8     0.780360\n",
              "9     0.180107\n",
              "10    0.114523\n",
              "dtype: float64"
            ]
          },
          "metadata": {},
          "execution_count": 10
        }
      ]
    },
    {
      "cell_type": "markdown",
      "source": [
        "Diferente do NumPy, as series podem possuir diferentes tipos de valores, assim como o index:"
      ],
      "metadata": {
        "id": "2JCALNuTT_qK"
      }
    },
    {
      "cell_type": "code",
      "source": [
        "serie2 = pd.Series([True, 7, 6, 3], index=[4.5, 'b', 'c', 'd'])\n",
        "serie2"
      ],
      "metadata": {
        "colab": {
          "base_uri": "https://localhost:8080/"
        },
        "id": "0CQIGmZ0UJqK",
        "outputId": "2041eba0-5c2a-4fed-c1d1-65e4760215c6"
      },
      "execution_count": null,
      "outputs": [
        {
          "output_type": "execute_result",
          "data": {
            "text/plain": [
              "4.5    True\n",
              "b         7\n",
              "c         6\n",
              "d         3\n",
              "dtype: object"
            ]
          },
          "metadata": {},
          "execution_count": 11
        }
      ]
    },
    {
      "cell_type": "markdown",
      "source": [
        "Seleções com auxílio do index:"
      ],
      "metadata": {
        "id": "MD6dw9t1UkDm"
      }
    },
    {
      "cell_type": "code",
      "source": [
        "serie2['c']"
      ],
      "metadata": {
        "colab": {
          "base_uri": "https://localhost:8080/"
        },
        "id": "dCrC1ZKHUnI3",
        "outputId": "07c15d35-2a72-485f-ccc1-b8d43319e188"
      },
      "execution_count": null,
      "outputs": [
        {
          "output_type": "execute_result",
          "data": {
            "text/plain": [
              "6"
            ]
          },
          "metadata": {},
          "execution_count": 12
        }
      ]
    },
    {
      "cell_type": "code",
      "source": [
        "serie2[4.5]"
      ],
      "metadata": {
        "colab": {
          "base_uri": "https://localhost:8080/"
        },
        "id": "_VdXYvaEUqU9",
        "outputId": "d1005910-27c0-4d43-9a98-999d6c53d67b"
      },
      "execution_count": null,
      "outputs": [
        {
          "output_type": "execute_result",
          "data": {
            "text/plain": [
              "True"
            ]
          },
          "metadata": {},
          "execution_count": 13
        }
      ]
    },
    {
      "cell_type": "markdown",
      "source": [
        "Vamos criar primeiramente nosso dicionário e armazenar em capitais e em seguida verificar o tipo:"
      ],
      "metadata": {
        "id": "yl-AX4dhUwt-"
      }
    },
    {
      "cell_type": "code",
      "source": [
        "capitais = {\n",
        "    'Pernambuco': 'Recife',\n",
        "    'Paraiba': 'Joao Pessoa',\n",
        "    'Ceara': 'Fortaleza',\n",
        "    'Bahia': 'Salvador',\n",
        "    'Alagoas': 'Maceio'\n",
        "}"
      ],
      "metadata": {
        "id": "5Npy0McoU3Qo"
      },
      "execution_count": null,
      "outputs": []
    },
    {
      "cell_type": "code",
      "source": [
        "type(capitais)"
      ],
      "metadata": {
        "colab": {
          "base_uri": "https://localhost:8080/"
        },
        "id": "vz7QjtgUVLh0",
        "outputId": "2af1ac9b-3b1f-4435-ab49-46f8fbcd0a5e"
      },
      "execution_count": null,
      "outputs": [
        {
          "output_type": "execute_result",
          "data": {
            "text/plain": [
              "dict"
            ]
          },
          "metadata": {},
          "execution_count": 15
        }
      ]
    },
    {
      "cell_type": "markdown",
      "source": [
        "Agora passamos nosso dicionário como parâmetro para criarmos nossa serie:"
      ],
      "metadata": {
        "id": "XkdmDUD_V1bJ"
      }
    },
    {
      "cell_type": "code",
      "source": [
        "serie3 = pd.Series(capitais)\n",
        "serie3"
      ],
      "metadata": {
        "colab": {
          "base_uri": "https://localhost:8080/"
        },
        "id": "9o7UcPFtV6Ic",
        "outputId": "3da85f34-0b0c-40fe-c9d8-fd3ac0e59973"
      },
      "execution_count": null,
      "outputs": [
        {
          "output_type": "execute_result",
          "data": {
            "text/plain": [
              "Pernambuco         Recife\n",
              "Paraiba       Joao Pessoa\n",
              "Ceara           Fortaleza\n",
              "Bahia            Salvador\n",
              "Alagoas            Maceio\n",
              "dtype: object"
            ]
          },
          "metadata": {},
          "execution_count": 16
        }
      ]
    },
    {
      "cell_type": "code",
      "source": [
        "type(serie3)"
      ],
      "metadata": {
        "colab": {
          "base_uri": "https://localhost:8080/"
        },
        "id": "_JhjAMo6V-ul",
        "outputId": "f9c35c93-f242-4714-8f07-79ee21910e27"
      },
      "execution_count": null,
      "outputs": [
        {
          "output_type": "execute_result",
          "data": {
            "text/plain": [
              "pandas.core.series.Series"
            ]
          },
          "metadata": {},
          "execution_count": 17
        }
      ]
    },
    {
      "cell_type": "markdown",
      "source": [
        "Vamos criar uma serie um pouco mais interessante. As 10 empresas mais valiosas do mundo. Vamos pegar essas informações e criar um dicionário:"
      ],
      "metadata": {
        "id": "lyVx4KOWWPrR"
      }
    },
    {
      "cell_type": "code",
      "source": [
        "dictEmpresas = {'Apple': 947.062,\n",
        "                'Google': 819.573,\n",
        "                'Amazon': 705.646,\n",
        "                'Microsoft': 611.460,\n",
        "                'Tencent': 214.023,\n",
        "                'McDonalds': 196.526,\n",
        "                'Visa': 191.032,\n",
        "                'Facebook': 186.421,\n",
        "                'Alibaba': 169.966,\n",
        "                'Louis Vuitton': 124.273\n",
        "                }"
      ],
      "metadata": {
        "id": "95VOipVTWVbS"
      },
      "execution_count": null,
      "outputs": []
    },
    {
      "cell_type": "code",
      "source": [
        "type(dictEmpresas)"
      ],
      "metadata": {
        "colab": {
          "base_uri": "https://localhost:8080/"
        },
        "id": "8ncgs1WeXG71",
        "outputId": "2765ba3e-a203-4522-8581-2123c78b45b0"
      },
      "execution_count": null,
      "outputs": [
        {
          "output_type": "execute_result",
          "data": {
            "text/plain": [
              "dict"
            ]
          },
          "metadata": {},
          "execution_count": 19
        }
      ]
    },
    {
      "cell_type": "markdown",
      "source": [
        "Agora atribuímos esse dicionário a uma nova serie:"
      ],
      "metadata": {
        "id": "H5TYWsjZXltP"
      }
    },
    {
      "cell_type": "code",
      "source": [
        "serie4 = pd.Series(dictEmpresas)\n",
        "serie4"
      ],
      "metadata": {
        "colab": {
          "base_uri": "https://localhost:8080/"
        },
        "id": "4hw8Gg5oXpud",
        "outputId": "3e5c0030-a510-4441-99ae-f0dcf5f2480c"
      },
      "execution_count": null,
      "outputs": [
        {
          "output_type": "execute_result",
          "data": {
            "text/plain": [
              "Apple            947.062\n",
              "Google           819.573\n",
              "Amazon           705.646\n",
              "Microsoft        611.460\n",
              "Tencent          214.023\n",
              "McDonalds        196.526\n",
              "Visa             191.032\n",
              "Facebook         186.421\n",
              "Alibaba          169.966\n",
              "Louis Vuitton    124.273\n",
              "dtype: float64"
            ]
          },
          "metadata": {},
          "execution_count": 20
        }
      ]
    },
    {
      "cell_type": "markdown",
      "source": [
        "Agora vamos usar as mesmas informações para criar a serie, desta vez a partir de lista e index:"
      ],
      "metadata": {
        "id": "-A2jwxmRX8gI"
      }
    },
    {
      "cell_type": "code",
      "source": [
        "empresas = ['Apple', 'Google', 'Amazon',\n",
        "            'Microsoft', 'Tencent',\n",
        "            \"McDonald's\", 'Visa',\n",
        "            'Facebook', 'Alibaba',\n",
        "            'Louis Vuitoon']"
      ],
      "metadata": {
        "id": "VQA6SaF4YCCI"
      },
      "execution_count": null,
      "outputs": []
    },
    {
      "cell_type": "code",
      "source": [
        "type(empresas)"
      ],
      "metadata": {
        "colab": {
          "base_uri": "https://localhost:8080/"
        },
        "id": "IH0IFX9EYawp",
        "outputId": "422a254d-10a2-4165-ddb0-32d11be1a7c7"
      },
      "execution_count": null,
      "outputs": [
        {
          "output_type": "execute_result",
          "data": {
            "text/plain": [
              "list"
            ]
          },
          "metadata": {},
          "execution_count": 26
        }
      ]
    },
    {
      "cell_type": "markdown",
      "source": [
        "Agora vamos fazer a lista com os valores, que usaremos depois como index:"
      ],
      "metadata": {
        "id": "6pT6rzKfYkAq"
      }
    },
    {
      "cell_type": "code",
      "source": [
        "bilhoes = [947.062, 819.573, 795.646,\n",
        "           611.460, 214.023, 196.526,\n",
        "           191.032, 186.421, 169.966,\n",
        "           124.273]"
      ],
      "metadata": {
        "id": "fEBIUNZpZiNu"
      },
      "execution_count": null,
      "outputs": []
    },
    {
      "cell_type": "code",
      "source": [
        "type(bilhoes)"
      ],
      "metadata": {
        "colab": {
          "base_uri": "https://localhost:8080/"
        },
        "id": "cqfdjEyIZ3Vf",
        "outputId": "77b1c5bf-bd81-4dc1-fe02-144c9b9f03a0"
      },
      "execution_count": null,
      "outputs": [
        {
          "output_type": "execute_result",
          "data": {
            "text/plain": [
              "list"
            ]
          },
          "metadata": {},
          "execution_count": 28
        }
      ]
    },
    {
      "cell_type": "markdown",
      "source": [
        "Agora, de posse das 2 listas, vamos construir uma serie:"
      ],
      "metadata": {
        "id": "m1L7OVJZZ_i4"
      }
    },
    {
      "cell_type": "code",
      "source": [
        "serie5 = pd.Series(bilhoes, index=empresas)\n",
        "serie5"
      ],
      "metadata": {
        "colab": {
          "base_uri": "https://localhost:8080/"
        },
        "id": "1U_MyNNTaFp9",
        "outputId": "694f3461-b0ab-41e3-b02a-2066d54fb8ef"
      },
      "execution_count": null,
      "outputs": [
        {
          "output_type": "execute_result",
          "data": {
            "text/plain": [
              "Apple            947.062\n",
              "Google           819.573\n",
              "Amazon           795.646\n",
              "Microsoft        611.460\n",
              "Tencent          214.023\n",
              "McDonald's       196.526\n",
              "Visa             191.032\n",
              "Facebook         186.421\n",
              "Alibaba          169.966\n",
              "Louis Vuitoon    124.273\n",
              "dtype: float64"
            ]
          },
          "metadata": {},
          "execution_count": 29
        }
      ]
    },
    {
      "cell_type": "markdown",
      "source": [
        "Vamos importar a biblioteca Matplotlib. As importações podem ser feitas no notebook na altura em que estamos mesmo:"
      ],
      "metadata": {
        "id": "S3AXiYt2bq4Z"
      }
    },
    {
      "cell_type": "code",
      "source": [
        "import matplotlib.pyplot as plt"
      ],
      "metadata": {
        "id": "Pv54Qp_rb1qD"
      },
      "execution_count": null,
      "outputs": []
    },
    {
      "cell_type": "markdown",
      "source": [
        "E agora vamos digitar apenas o seguinte:\n",
        "\n"
      ],
      "metadata": {
        "id": "VXGBy78Zb-Xm"
      }
    },
    {
      "cell_type": "code",
      "source": [
        "serie5.plot()"
      ],
      "metadata": {
        "colab": {
          "base_uri": "https://localhost:8080/",
          "height": 282
        },
        "id": "cteaj2YUcBL5",
        "outputId": "2cfd55e6-2192-4e63-abc5-1d0701e868e3"
      },
      "execution_count": null,
      "outputs": [
        {
          "output_type": "execute_result",
          "data": {
            "text/plain": [
              "<matplotlib.axes._subplots.AxesSubplot at 0x7f9170796c10>"
            ]
          },
          "metadata": {},
          "execution_count": 32
        },
        {
          "output_type": "display_data",
          "data": {
            "text/plain": [
              "<Figure size 432x288 with 1 Axes>"
            ],
            "image/png": "[encoded data removed]"
          },
          "metadata": {
            "needs_background": "light"
          }
        }
      ]
    },
    {
      "cell_type": "markdown",
      "source": [
        "O que aconteceu? A biblioteca 'improvisou' e fez o que podia, já que ainda não aprendemos os detalhes para aprimorar nosso gráfico. Para encerrar, vamos fazer mais essa:"
      ],
      "metadata": {
        "id": "ifjQr-L-c8Ft"
      }
    },
    {
      "cell_type": "code",
      "source": [
        "serie5.plot(kind = 'bar')"
      ],
      "metadata": {
        "colab": {
          "base_uri": "https://localhost:8080/",
          "height": 339
        },
        "id": "1Dmd7L_6dJaB",
        "outputId": "e98b6553-83d5-4a5f-89ff-f2088a58be89"
      },
      "execution_count": null,
      "outputs": [
        {
          "output_type": "execute_result",
          "data": {
            "text/plain": [
              "<matplotlib.axes._subplots.AxesSubplot at 0x7f9170506310>"
            ]
          },
          "metadata": {},
          "execution_count": 33
        },
        {
          "output_type": "display_data",
          "data": {
            "text/plain": [
              "<Figure size 432x288 with 1 Axes>"
            ],
            "image/png": "[encoded data removed]"
          },
          "metadata": {
            "needs_background": "light"
          }
        }
      ]
    }
  ]
}