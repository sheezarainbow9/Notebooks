{
  "nbformat": 4,
  "nbformat_minor": 0,
  "metadata": {
    "colab": {
      "provenance": [],
      "authorship_tag": "ABX9TyMsaaLxsPp1Fi+abZyRUYCA",
      "include_colab_link": true
    },
    "kernelspec": {
      "name": "python3",
      "display_name": "Python 3"
    },
    "language_info": {
      "name": "python"
    }
  },
  "cells": [
    {
      "cell_type": "markdown",
      "metadata": {
        "id": "view-in-github",
        "colab_type": "text"
      },
      "source": [
        "<a href=\"https://colab.research.google.com/github/sheezarainbow9/Notebooks/blob/main/Atividade_01_Numpy.ipynb\" target=\"_parent\"><img src=\"https://colab.research.google.com/assets/colab-badge.svg\" alt=\"Open In Colab\"/></a>"
      ]
    },
    {
      "cell_type": "markdown",
      "source": [
        "Aluna: Sheeza.\n",
        "\n",
        "Fuctura - Data Science.\n",
        "\n",
        "Professora: Camila Dantas.\n",
        "\n",
        "Atividade 01 - Numpy."
      ],
      "metadata": {
        "id": "sKSAfR8WFuGa"
      }
    },
    {
      "cell_type": "markdown",
      "source": [
        "1 - Importe o Numpy."
      ],
      "metadata": {
        "id": "DTj6C9vkGLZn"
      }
    },
    {
      "cell_type": "code",
      "source": [
        "import numpy as np"
      ],
      "metadata": {
        "id": "xkuLbtHpGyFH"
      },
      "execution_count": 1,
      "outputs": []
    },
    {
      "cell_type": "markdown",
      "source": [
        "2 - Utilize a função range do python para criar automaticamente uma lista de\n",
        "números variando de 0 até 15."
      ],
      "metadata": {
        "id": "pDVCDGqYGRMH"
      }
    },
    {
      "cell_type": "code",
      "source": [
        "lista1 = list(range(0, 16))\n",
        "print(f'Lista 1: {lista1}')"
      ],
      "metadata": {
        "colab": {
          "base_uri": "https://localhost:8080/"
        },
        "id": "_mVP5KbLG-Zm",
        "outputId": "d1e24b0d-5536-4171-fa3f-9e21f34be8c8"
      },
      "execution_count": 4,
      "outputs": [
        {
          "output_type": "stream",
          "name": "stdout",
          "text": [
            "Lista 1: [0, 1, 2, 3, 4, 5, 6, 7, 8, 9, 10, 11, 12, 13, 14, 15]\n"
          ]
        }
      ]
    },
    {
      "cell_type": "markdown",
      "source": [
        "3 - Converta a lista criada para um objeto do tipo numpy array."
      ],
      "metadata": {
        "id": "azvUVocLGZON"
      }
    },
    {
      "cell_type": "code",
      "source": [
        "array1 = np.array(range(16))\n",
        "print(f'Array1: {array1}')"
      ],
      "metadata": {
        "colab": {
          "base_uri": "https://localhost:8080/"
        },
        "id": "Dfe047JGHQ8E",
        "outputId": "d4c1967b-07d5-4e97-af37-a2af53065894"
      },
      "execution_count": 7,
      "outputs": [
        {
          "output_type": "stream",
          "name": "stdout",
          "text": [
            "Array1: [ 0  1  2  3  4  5  6  7  8  9 10 11 12 13 14 15]\n"
          ]
        }
      ]
    },
    {
      "cell_type": "markdown",
      "source": [
        "4 - Crie um novo array equivalente ao anterior utilizando diretamente os\n",
        "recursos do numpy."
      ],
      "metadata": {
        "id": "psMuFMduGc2K"
      }
    },
    {
      "cell_type": "code",
      "source": [
        "array2 = np.arange(16)\n",
        "print(f'Array2: {array2}')"
      ],
      "metadata": {
        "colab": {
          "base_uri": "https://localhost:8080/"
        },
        "id": "4eA3bSquHmER",
        "outputId": "501b3179-967f-4e2f-ae73-db0b1851267b"
      },
      "execution_count": 8,
      "outputs": [
        {
          "output_type": "stream",
          "name": "stdout",
          "text": [
            "Array2: [ 0  1  2  3  4  5  6  7  8  9 10 11 12 13 14 15]\n"
          ]
        }
      ]
    },
    {
      "cell_type": "markdown",
      "source": [
        "5 - Crie um array de 10 zeros."
      ],
      "metadata": {
        "id": "POqARjJeGgww"
      }
    },
    {
      "cell_type": "code",
      "source": [
        "array3 = np.zeros(10)\n",
        "print(f'Array3: {array3}')"
      ],
      "metadata": {
        "colab": {
          "base_uri": "https://localhost:8080/"
        },
        "id": "fqLIjTqBHyRn",
        "outputId": "f0ecca11-cfe5-4e04-b289-53593033a7a7"
      },
      "execution_count": 13,
      "outputs": [
        {
          "output_type": "stream",
          "name": "stdout",
          "text": [
            "Array3: [0. 0. 0. 0. 0. 0. 0. 0. 0. 0.]\n"
          ]
        }
      ]
    },
    {
      "cell_type": "markdown",
      "source": [
        "6 - Crie um array de 10 números \"um\"."
      ],
      "metadata": {
        "id": "h8uRXNKTGkBn"
      }
    },
    {
      "cell_type": "code",
      "source": [
        "array4 = np.ones(10)\n",
        "print(f'Array4: {array4}')"
      ],
      "metadata": {
        "colab": {
          "base_uri": "https://localhost:8080/"
        },
        "id": "Xugn-8t-IqpF",
        "outputId": "93cd54fe-27b0-4915-8c49-8100ba50d0df"
      },
      "execution_count": 14,
      "outputs": [
        {
          "output_type": "stream",
          "name": "stdout",
          "text": [
            "Array4: [1. 1. 1. 1. 1. 1. 1. 1. 1. 1.]\n"
          ]
        }
      ]
    },
    {
      "cell_type": "markdown",
      "source": [
        "7 - Crie um array de 10 números \"5\"."
      ],
      "metadata": {
        "id": "wo9_dSsmGnWS"
      }
    },
    {
      "cell_type": "code",
      "source": [
        "array5 = np.full(10, 5)\n",
        "print(f'Array5: {array5}')"
      ],
      "metadata": {
        "colab": {
          "base_uri": "https://localhost:8080/"
        },
        "id": "lNCLp04OI2UH",
        "outputId": "29dd6035-21b4-4d4a-8857-cd9667e97ecd"
      },
      "execution_count": 32,
      "outputs": [
        {
          "output_type": "stream",
          "name": "stdout",
          "text": [
            "Array5: [5 5 5 5 5 5 5 5 5 5]\n"
          ]
        }
      ]
    },
    {
      "cell_type": "markdown",
      "source": [
        "8 - Crie um array de inteiros de 10 até 50."
      ],
      "metadata": {
        "id": "1Cg2GLp9Gqcn"
      }
    },
    {
      "cell_type": "code",
      "source": [
        "array6 = np.arange(10, 51, dtype=int)\n",
        "print(f'Array6: {array6}')"
      ],
      "metadata": {
        "colab": {
          "base_uri": "https://localhost:8080/"
        },
        "id": "IEtojj2nLAVl",
        "outputId": "d5db4cd0-7c95-42ae-b9da-7cfbba98f876"
      },
      "execution_count": 38,
      "outputs": [
        {
          "output_type": "stream",
          "name": "stdout",
          "text": [
            "Array6: [10 11 12 13 14 15 16 17 18 19 20 21 22 23 24 25 26 27 28 29 30 31 32 33\n",
            " 34 35 36 37 38 39 40 41 42 43 44 45 46 47 48 49 50]\n"
          ]
        }
      ]
    },
    {
      "cell_type": "markdown",
      "source": [
        "9 - Crie uma matriz identidade 3x3."
      ],
      "metadata": {
        "id": "x5TO_IANGvUI"
      }
    },
    {
      "cell_type": "code",
      "execution_count": 42,
      "metadata": {
        "colab": {
          "base_uri": "https://localhost:8080/"
        },
        "id": "GWuT2SoJFjhD",
        "outputId": "66191d28-51f2-4973-9a2c-cc70570f5e4d"
      },
      "outputs": [
        {
          "output_type": "execute_result",
          "data": {
            "text/plain": [
              "array([[1., 1., 1.],\n",
              "       [1., 1., 1.],\n",
              "       [1., 1., 1.]])"
            ]
          },
          "metadata": {},
          "execution_count": 42
        }
      ],
      "source": [
        "m = np.ones((3, 3))\n",
        "m"
      ]
    }
  ]
}